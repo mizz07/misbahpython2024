{
  "nbformat": 4,
  "nbformat_minor": 0,
  "metadata": {
    "colab": {
      "provenance": []
    },
    "kernelspec": {
      "name": "python3",
      "display_name": "Python 3"
    },
    "language_info": {
      "name": "python"
    }
  },
  "cells": [
    {
      "cell_type": "code",
      "source": [
        "a=int(input(\"enter a number: \"))\n",
        "b=int(input(\"enter a number:\"))\n",
        "print(a+b)\n",
        "print(a-b)\n",
        "print(a*b)\n",
        "print(a/b)\n",
        "print(a%b)\n",
        "print(a**b)"
      ],
      "metadata": {
        "colab": {
          "base_uri": "https://localhost:8080/"
        },
        "id": "DxYAUIdfAhZ5",
        "outputId": "3601f8d8-2b32-4d14-c357-4d8c7bb93187"
      },
      "execution_count": 3,
      "outputs": [
        {
          "output_type": "stream",
          "name": "stdout",
          "text": [
            "enter a number: 7\n",
            "enter a number:8\n",
            "15\n",
            "-1\n",
            "56\n",
            "0.875\n",
            "7\n",
            "5764801\n"
          ]
        }
      ]
    }
  ]
}