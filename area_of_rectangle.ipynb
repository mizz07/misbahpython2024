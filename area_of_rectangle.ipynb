length = float(input("enter the length of the rectangle: "))
width = float(input("enter the width of the rectange: "))
area = length * width
print("the area of rectangle is:", area)
