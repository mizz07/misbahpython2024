{
  "nbformat": 4,
  "nbformat_minor": 0,
  "metadata": {
    "colab": {
      "provenance": []
    },
    "kernelspec": {
      "name": "python3",
      "display_name": "Python 3"
    },
    "language_info": {
      "name": "python"
    }
  },
  "cells": [
    {
      "cell_type": "code",
      "source": [
        "minutes = int(input(\"enter time in minutes\"))\n",
        "\n",
        "hour = minute / 60\n",
        "print(hour)"
      ],
      "metadata": {
        "colab": {
          "base_uri": "https://localhost:8080/"
        },
        "id": "yrhug-A-LO4V",
        "outputId": "3e7b052b-994a-4ec5-8ed6-a49819963e7d"
      },
      "execution_count": 14,
      "outputs": [
        {
          "output_type": "stream",
          "name": "stdout",
          "text": [
            "enter time in minutes5\n",
            "0.08333333333333333\n"
          ]
        }
      ]
    }
  ]
}