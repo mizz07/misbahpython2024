{
  "nbformat": 4,
  "nbformat_minor": 0,
  "metadata": {
    "colab": {
      "provenance": []
    },
    "kernelspec": {
      "name": "python3",
      "display_name": "Python 3"
    },
    "language_info": {
      "name": "python"
    }
  },
  "cells": [
    {
      "cell_type": "markdown",
      "source": [
        "1.Write a python program to check if a number is divisible by both 2 and 3."
      ],
      "metadata": {
        "id": "GJ2GpHuvBrGy"
      }
    },
    {
      "cell_type": "code",
      "source": [
        "number = int(input(\"Enter a number: \"))\n",
        "if number % 2 == 0 and number % 3 == 0:\n",
        "    print(number, \"is divisible by both 2 and 3.\")\n",
        "else:\n",
        "    print(number, \"is not divisible by both 2 and 3.\")"
      ],
      "metadata": {
        "colab": {
          "base_uri": "https://localhost:8080/"
        },
        "id": "etPMakzPCCaq",
        "outputId": "639492e0-5ce4-4bc0-eb34-99733015a122"
      },
      "execution_count": 1,
      "outputs": [
        {
          "output_type": "stream",
          "name": "stdout",
          "text": [
            "Enter a number: 6\n",
            "6 is divisible by both 2 and 3.\n"
          ]
        }
      ]
    },
    {
      "cell_type": "markdown",
      "source": [
        "2.Write a python program this print \"Hello\" if a number is greater than 10, otherwise print \"Goodbye\"."
      ],
      "metadata": {
        "id": "UkPzBQslCQCt"
      }
    },
    {
      "cell_type": "code",
      "source": [
        "number = int(input(\"Enter a number: \"))\n",
        "if number > 10:\n",
        "    print(\"Hello\")\n",
        "else:\n",
        "    print(\"Goodbye\")"
      ],
      "metadata": {
        "colab": {
          "base_uri": "https://localhost:8080/"
        },
        "id": "06klRbzACspd",
        "outputId": "f21bb3dd-fa60-4214-eb1f-093b09d49377"
      },
      "execution_count": 3,
      "outputs": [
        {
          "output_type": "stream",
          "name": "stdout",
          "text": [
            "Enter a number: 15\n",
            "Hello\n"
          ]
        }
      ]
    },
    {
      "cell_type": "markdown",
      "source": [
        "3.Write a python program to find out if a number is divisible by 5 but not    by 10."
      ],
      "metadata": {
        "id": "ak3dLcaLDGB0"
      }
    },
    {
      "cell_type": "code",
      "source": [
        "number = int(input(\"enter a number:\"))\n",
        "if number % 5 ==0 and number % 10 !=0:\n",
        "    print(f\"{number} is divisible by 5 but not by 10.\")\n",
        "else:\n",
        "    print(f\"{number} does not meet the condition.\")\n"
      ],
      "metadata": {
        "colab": {
          "base_uri": "https://localhost:8080/"
        },
        "id": "KrN74tziDccG",
        "outputId": "7c833a29-cc98-4248-d460-a8265189cfbf"
      },
      "execution_count": 7,
      "outputs": [
        {
          "output_type": "stream",
          "name": "stdout",
          "text": [
            "enter a number:20\n",
            "20 does not meet the condition.\n"
          ]
        }
      ]
    },
    {
      "cell_type": "markdown",
      "source": [
        "4.Write a program to find whether a number is between 100 and 200.(inclusive)"
      ],
      "metadata": {
        "id": "u9G-DDeLFeJ7"
      }
    },
    {
      "cell_type": "code",
      "source": [
        "number = int(input(\"enter a number: \"))\n",
        "if number >= 100 and number <=200:\n",
        "  print(f\"{number} is between 100 and 200 inclusive.\")\n",
        "else:\n",
        "  print(f\"{number} is not between 100 and 200 inclusive.\" )"
      ],
      "metadata": {
        "colab": {
          "base_uri": "https://localhost:8080/"
        },
        "id": "RBWTDi23FwMs",
        "outputId": "18165097-3450-4f37-b415-ffeec2f08012"
      },
      "execution_count": 9,
      "outputs": [
        {
          "output_type": "stream",
          "name": "stdout",
          "text": [
            "enter a number: 150\n",
            "150 is between 100 and 200 inclusive.\n"
          ]
        }
      ]
    },
    {
      "cell_type": "markdown",
      "source": [
        "5.Write a program to find whether a number is between 50 and 100.(exclusive)"
      ],
      "metadata": {
        "id": "fDCuVTJLGxtR"
      }
    },
    {
      "cell_type": "code",
      "source": [
        "number = int(input(\"enter a number: \"))\n",
        "if number > 50 and number <100:\n",
        "  print(f\"{number} is between 50 and 100 exclusive.\")\n",
        "else:\n",
        "    print(f\"{number} is not between 50 and 100 exclusive.\" )"
      ],
      "metadata": {
        "colab": {
          "base_uri": "https://localhost:8080/"
        },
        "id": "9eXIDwYVHS81",
        "outputId": "3f303f3a-f417-4a03-c048-0af3cc944fab"
      },
      "execution_count": 11,
      "outputs": [
        {
          "output_type": "stream",
          "name": "stdout",
          "text": [
            "enter a number: 20\n",
            "20 is not between 50 and 100 exclusive.\n"
          ]
        }
      ]
    },
    {
      "cell_type": "markdown",
      "source": [
        "6.Write a python program to print a message if a number is greater than 100 but less than 500."
      ],
      "metadata": {
        "id": "D0bhyqKHHqKr"
      }
    },
    {
      "cell_type": "code",
      "source": [
        "number = int(input(\"enter a number: \"))\n",
        "if number > 100 and number <500:\n",
        "  print(f\"{number} is greater than 100 but less than 500.\")\n",
        "else:\n",
        "    print(f\"{number} is not greater than 100 but less than 500.\")"
      ],
      "metadata": {
        "colab": {
          "base_uri": "https://localhost:8080/"
        },
        "id": "NEQPRqwVH4nZ",
        "outputId": "04ec7852-f6d9-4240-8e6c-9e2e6cdd0a11"
      },
      "execution_count": 12,
      "outputs": [
        {
          "output_type": "stream",
          "name": "stdout",
          "text": [
            "enter a number: 250\n",
            "250 is greater than 100 but less than 500.\n"
          ]
        }
      ]
    },
    {
      "cell_type": "markdown",
      "source": [
        "7.Write a python program to print all numbers from 1 to 10 using a loop."
      ],
      "metadata": {
        "id": "LgFXI9chII6P"
      }
    },
    {
      "cell_type": "code",
      "source": [
        "for number in range (1,11):\n",
        "  print(number)"
      ],
      "metadata": {
        "colab": {
          "base_uri": "https://localhost:8080/"
        },
        "id": "bVW_oGVnI047",
        "outputId": "b4364aed-e203-4055-c10c-86017cb12b15"
      },
      "execution_count": 13,
      "outputs": [
        {
          "output_type": "stream",
          "name": "stdout",
          "text": [
            "1\n",
            "2\n",
            "3\n",
            "4\n",
            "5\n",
            "6\n",
            "7\n",
            "8\n",
            "9\n",
            "10\n"
          ]
        }
      ]
    },
    {
      "cell_type": "markdown",
      "source": [
        "8.Write a python to print the first 10 even numbers using a for loop."
      ],
      "metadata": {
        "id": "TVu7cPuXJMdS"
      }
    },
    {
      "cell_type": "code",
      "source": [
        "number = int(input(\"enter a number: \"))\n",
        "for number in range (1,21):\n",
        "  if number % 2 == 0:\n",
        "    print(number)"
      ],
      "metadata": {
        "colab": {
          "base_uri": "https://localhost:8080/"
        },
        "id": "ze9UPSNNJcS4",
        "outputId": "8f673caa-3cfc-425b-c559-4e455bf4dd3d"
      },
      "execution_count": 16,
      "outputs": [
        {
          "output_type": "stream",
          "name": "stdout",
          "text": [
            "enter a number: 2\n",
            "2\n",
            "4\n",
            "6\n",
            "8\n",
            "10\n",
            "12\n",
            "14\n",
            "16\n",
            "18\n",
            "20\n"
          ]
        }
      ]
    },
    {
      "cell_type": "markdown",
      "source": [
        "9.write a python program to sum all numbers from 1 to 100 using a for loop."
      ],
      "metadata": {
        "id": "Y7577j4LKSbi"
      }
    },
    {
      "cell_type": "code",
      "source": [
        "total = 0\n",
        "for number in range (1,101):\n",
        "  total += number\n",
        "print(\"The sum of numbers from 1 to 100 is:\", total)"
      ],
      "metadata": {
        "colab": {
          "base_uri": "https://localhost:8080/"
        },
        "id": "NGzwxobMKiIc",
        "outputId": "2bd40376-e8d7-41d7-fed2-5883be761582"
      },
      "execution_count": 17,
      "outputs": [
        {
          "output_type": "stream",
          "name": "stdout",
          "text": [
            "The sum of numbers from 1 to 100 is: 5050\n"
          ]
        }
      ]
    },
    {
      "cell_type": "markdown",
      "source": [
        "10.Write a python program to print the multiplication table of 7 using a for loop."
      ],
      "metadata": {
        "id": "K11gvvAWL_gM"
      }
    },
    {
      "cell_type": "code",
      "source": [
        "for i  in range (1,11):\n",
        "  print(\"7 x\",i,\"=\",7*i)"
      ],
      "metadata": {
        "colab": {
          "base_uri": "https://localhost:8080/"
        },
        "id": "XY0v75vgMMz-",
        "outputId": "25f14eaf-b97b-4a41-d02d-5508f8bba1f7"
      },
      "execution_count": 18,
      "outputs": [
        {
          "output_type": "stream",
          "name": "stdout",
          "text": [
            "7 x 1 = 7\n",
            "7 x 2 = 14\n",
            "7 x 3 = 21\n",
            "7 x 4 = 28\n",
            "7 x 5 = 35\n",
            "7 x 6 = 42\n",
            "7 x 7 = 49\n",
            "7 x 8 = 56\n",
            "7 x 9 = 63\n",
            "7 x 10 = 70\n"
          ]
        }
      ]
    },
    {
      "cell_type": "markdown",
      "source": [
        "11.Write a python program to reverse a string using a while loop."
      ],
      "metadata": {
        "id": "8tr-y7CKMfTk"
      }
    },
    {
      "cell_type": "code",
      "source": [
        "string = input(\"enter a string: \")\n",
        "reversed_string = \"\"\n",
        "index = len(string) - 1\n",
        "while index >= 0:\n",
        "  reversed_string += string[index]\n",
        "  index -= 1\n",
        "print(\"The reversed string is:\", reversed_string)"
      ],
      "metadata": {
        "colab": {
          "base_uri": "https://localhost:8080/"
        },
        "id": "x0gSelLzMzNM",
        "outputId": "553ca5ff-b7fd-4662-be46-69ca959d5cbb"
      },
      "execution_count": 20,
      "outputs": [
        {
          "output_type": "stream",
          "name": "stdout",
          "text": [
            "enter a string: \"MIBAH_HARMAIN\"\n",
            "The reversed string is: \"NIAMRAH_HABIM\"\n"
          ]
        }
      ]
    },
    {
      "cell_type": "markdown",
      "source": [
        "12.Write a python program to print all odd numbers from 1 to 20 using a while loop."
      ],
      "metadata": {
        "id": "mDzt5JfFNYoM"
      }
    },
    {
      "cell_type": "code",
      "source": [
        "number = 1\n",
        "while number <= 20:\n",
        "    print(number)\n",
        "    number += 2"
      ],
      "metadata": {
        "colab": {
          "base_uri": "https://localhost:8080/"
        },
        "id": "A-b3_aM9OFwt",
        "outputId": "52f239c4-0e10-440a-dc08-2cfdd302da25"
      },
      "execution_count": 23,
      "outputs": [
        {
          "output_type": "stream",
          "name": "stdout",
          "text": [
            "1\n",
            "3\n",
            "5\n",
            "7\n",
            "9\n",
            "11\n",
            "13\n",
            "15\n",
            "17\n",
            "19\n"
          ]
        }
      ]
    },
    {
      "cell_type": "markdown",
      "source": [
        "13.Write a python program to count the number of times a specific character appers in a string using a loop."
      ],
      "metadata": {
        "id": "LY7TqNeiOuUu"
      }
    },
    {
      "cell_type": "code",
      "source": [
        "string = input(\"enter a string: \")\n",
        "char_to_count = input(\"enter a character: \")\n",
        "count = 0\n",
        "for char in string:\n",
        "  if char == char_to_count:\n",
        "    count += 1\n",
        "print(f\"The character '{char_to_count}' appears {count} times in the string.\")"
      ],
      "metadata": {
        "colab": {
          "base_uri": "https://localhost:8080/"
        },
        "id": "o_AEfh0IPE2V",
        "outputId": "56ab8836-1468-4a8a-e79f-041364f58da6"
      },
      "execution_count": 2,
      "outputs": [
        {
          "output_type": "stream",
          "name": "stdout",
          "text": [
            "enter a string: \"MISBAH_HARMAIN\"\n",
            "enter a character: I\n",
            "The character 'I' appears 2 times in the string.\n"
          ]
        }
      ]
    },
    {
      "cell_type": "markdown",
      "source": [
        "14.Write a python program to print a pattern of stars (loop)"
      ],
      "metadata": {
        "id": "Rv5XwPqTQpz2"
      }
    },
    {
      "cell_type": "code",
      "source": [
        "rows = int(input(\"enter the number of rows for the pattern: \"))\n",
        "for i in range (1,rows+1):\n",
        "  print(\"*\" * i)"
      ],
      "metadata": {
        "colab": {
          "base_uri": "https://localhost:8080/"
        },
        "id": "SrWv0E0CS9Aw",
        "outputId": "26ef8322-5a49-4c7d-a17f-50836fa9b07a"
      },
      "execution_count": 3,
      "outputs": [
        {
          "output_type": "stream",
          "name": "stdout",
          "text": [
            "enter the number of rows for the pattern: 7\n",
            "*\n",
            "**\n",
            "***\n",
            "****\n",
            "*****\n",
            "******\n",
            "*******\n"
          ]
        }
      ]
    },
    {
      "cell_type": "markdown",
      "source": [
        "15.Write a python program to print the sum of all even numbers from 1 to 50 using a for loop."
      ],
      "metadata": {
        "id": "q5HNTtjBTZP-"
      }
    },
    {
      "cell_type": "code",
      "source": [
        "total_sum = 0\n",
        "for number in range (2, 51, 2):\n",
        "  total_sum += number\n",
        "print(\"The sum of even numbers from 1 to 50 is:\", total_sum)"
      ],
      "metadata": {
        "colab": {
          "base_uri": "https://localhost:8080/"
        },
        "id": "yXhq4RLOUCuE",
        "outputId": "4ea4d3cb-301c-401d-cca5-66a0804095c0"
      },
      "execution_count": 5,
      "outputs": [
        {
          "output_type": "stream",
          "name": "stdout",
          "text": [
            "The sum of even numbers from 1 to 50 is: 650\n"
          ]
        }
      ]
    }
  ]
}