minutes = int(input("enter time in minutes"))

hour = minute / 60
print(hour)
