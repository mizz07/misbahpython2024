{
  "nbformat": 4,
  "nbformat_minor": 0,
  "metadata": {
    "colab": {
      "provenance": []
    },
    "kernelspec": {
      "name": "python3",
      "display_name": "Python 3"
    },
    "language_info": {
      "name": "python"
    }
  },
  "cells": [
    {
      "cell_type": "markdown",
      "source": [
        "FUNCTIONS AND MODULES\n",
        "\n",
        "1.Normal function syntax"
      ],
      "metadata": {
        "id": "jIBS9MRweNBV"
      }
    },
    {
      "cell_type": "code",
      "source": [
        "def greet(name):\n",
        "  print(\"hello, \"+name+\"!\")\n",
        "\n",
        "greet(\"Alice\")\n"
      ],
      "metadata": {
        "colab": {
          "base_uri": "https://localhost:8080/"
        },
        "id": "5ZOfILO-eeQk",
        "outputId": "1bb70808-9172-4fed-b276-ca60bb168d64"
      },
      "execution_count": null,
      "outputs": [
        {
          "output_type": "stream",
          "name": "stdout",
          "text": [
            "hello, Alice!\n"
          ]
        }
      ]
    },
    {
      "cell_type": "markdown",
      "source": [
        "2.Function Arguments\n",
        "\n",
        " A.Positional Argument"
      ],
      "metadata": {
        "id": "hAVjHtTke3v-"
      }
    },
    {
      "cell_type": "code",
      "source": [
        "def add(a,b):\n",
        "  return a+b\n",
        "\n",
        "print(add(5,3))\n"
      ],
      "metadata": {
        "colab": {
          "base_uri": "https://localhost:8080/"
        },
        "id": "4d4HPterfETW",
        "outputId": "022fabea-bc28-4a63-c841-4782c14f56fa"
      },
      "execution_count": null,
      "outputs": [
        {
          "output_type": "stream",
          "name": "stdout",
          "text": [
            "8\n"
          ]
        }
      ]
    },
    {
      "cell_type": "code",
      "source": [
        "B.Keyword Argument"
      ],
      "metadata": {
        "id": "S7p_-VR0fe3m"
      },
      "execution_count": null,
      "outputs": []
    },
    {
      "cell_type": "code",
      "source": [
        "def greet(name, message):\n",
        "  print(message + \", \"+ name + \"!\")\n",
        "\n",
        "greet(name=\"Alice\",message=\"Good morning\")"
      ],
      "metadata": {
        "colab": {
          "base_uri": "https://localhost:8080/"
        },
        "id": "I1de6tbvfxqF",
        "outputId": "cbd37b7e-5b4a-4513-ec6c-2b37fb8242fc"
      },
      "execution_count": null,
      "outputs": [
        {
          "output_type": "stream",
          "name": "stdout",
          "text": [
            "Good morning, Alice!\n"
          ]
        }
      ]
    },
    {
      "cell_type": "markdown",
      "source": [
        "C.Default Argument"
      ],
      "metadata": {
        "id": "yR76R74RgiYB"
      }
    },
    {
      "cell_type": "code",
      "source": [
        "def greet(name, message=\"Hello\"):\n",
        "  print(message + \", \"+ name + \"!\")\n",
        "greet(\"Alice\")\n",
        "greet(\"Bob\", \"Hi\")"
      ],
      "metadata": {
        "colab": {
          "base_uri": "https://localhost:8080/"
        },
        "id": "tuEgJTEHgt02",
        "outputId": "c7941553-c8b1-48d5-c368-0ea4f7b5513a"
      },
      "execution_count": null,
      "outputs": [
        {
          "output_type": "stream",
          "name": "stdout",
          "text": [
            "Hello, Alice!\n",
            "Hi, Bob!\n"
          ]
        }
      ]
    },
    {
      "cell_type": "markdown",
      "source": [
        "D.Variable length argument"
      ],
      "metadata": {
        "id": "HRUQqXVhhWEv"
      }
    },
    {
      "cell_type": "code",
      "source": [
        "#positional argument\n",
        "def sum_numbers(*numbers):\n",
        "  return sum(numbers)\n",
        "print(sum_numbers(1,2,3,4))"
      ],
      "metadata": {
        "colab": {
          "base_uri": "https://localhost:8080/"
        },
        "id": "hF6lOq5Nheo9",
        "outputId": "f94d6740-620e-4b09-e579-0b780e02c71a"
      },
      "execution_count": null,
      "outputs": [
        {
          "output_type": "stream",
          "name": "stdout",
          "text": [
            "10\n"
          ]
        }
      ]
    },
    {
      "cell_type": "code",
      "source": [
        "#**keyword argument\n",
        "def describe_person(**kwargs):\n",
        "  for key, value in kwargs.items():\n",
        "    print(key + \": \" + value)\n",
        "describe_person(name=\"Alice\", age=\"25\", city=\"New York\")"
      ],
      "metadata": {
        "colab": {
          "base_uri": "https://localhost:8080/"
        },
        "id": "fCnovQLllNCY",
        "outputId": "cfd20882-6de5-4316-b64e-c213a3b0706c"
      },
      "execution_count": null,
      "outputs": [
        {
          "output_type": "stream",
          "name": "stdout",
          "text": [
            "name: Alice\n",
            "age: 25\n",
            "city: New York\n"
          ]
        }
      ]
    },
    {
      "cell_type": "markdown",
      "source": [
        "Return Statement"
      ],
      "metadata": {
        "id": "NowoQMMpnuAu"
      }
    },
    {
      "cell_type": "code",
      "source": [
        "def square(num):\n",
        "  return num*num\n",
        "result=square(5)\n",
        "print(\"square is:\",result)\n",
        "\n",
        "\n"
      ],
      "metadata": {
        "colab": {
          "base_uri": "https://localhost:8080/"
        },
        "id": "NIpEO5sgn25N",
        "outputId": "56e93782-64a7-4c6a-9679-c32d39504c78"
      },
      "execution_count": null,
      "outputs": [
        {
          "output_type": "stream",
          "name": "stdout",
          "text": [
            "square is: 25\n"
          ]
        }
      ]
    },
    {
      "cell_type": "markdown",
      "source": [
        "Modules\n",
        "\n",
        "1.Importing Modules"
      ],
      "metadata": {
        "id": "e9kVE90cqU8M"
      }
    },
    {
      "cell_type": "code",
      "source": [
        "import math\n",
        "print(math.sqrt(16))"
      ],
      "metadata": {
        "colab": {
          "base_uri": "https://localhost:8080/"
        },
        "id": "u6ixbccXqvce",
        "outputId": "8376c5f8-84ff-42a1-8f21-cac22a4e1ad2"
      },
      "execution_count": null,
      "outputs": [
        {
          "output_type": "stream",
          "name": "stdout",
          "text": [
            "4.0\n"
          ]
        }
      ]
    },
    {
      "cell_type": "markdown",
      "source": [
        "2.Import specific function"
      ],
      "metadata": {
        "id": "2FNufdArq6gm"
      }
    },
    {
      "cell_type": "code",
      "source": [
        "from math import pi, sin\n",
        "print(pi)\n",
        "print(sin(math.radians(90)))"
      ],
      "metadata": {
        "colab": {
          "base_uri": "https://localhost:8080/"
        },
        "id": "paKbK4r4rDDB",
        "outputId": "1797702a-796f-4381-92cb-cdce66d20ade"
      },
      "execution_count": null,
      "outputs": [
        {
          "output_type": "stream",
          "name": "stdout",
          "text": [
            "3.141592653589793\n",
            "1.0\n"
          ]
        }
      ]
    },
    {
      "cell_type": "markdown",
      "source": [
        "Hands-on practice\n",
        "\n",
        "1.write a python to check if a number is prime"
      ],
      "metadata": {
        "id": "lJiKuKiuGSMk"
      }
    },
    {
      "cell_type": "code",
      "source": [
        "def is_prime(num):\n",
        "  if num <= 1:\n",
        "    return False\n",
        "\n",
        "  for i in range(2, int(num ** 0.5) + 1):\n",
        "   if num % i == 0:\n",
        "    return False\n",
        "    return True\n",
        "number = int(input(\"Enter a number: \"))\n",
        "if is_prime(number):\n",
        "   print(number, \"is a prime number.\")\n",
        "else:\n",
        "   print(number, \"is not a prime number.\")"
      ],
      "metadata": {
        "colab": {
          "base_uri": "https://localhost:8080/"
        },
        "id": "HceFZwTSGcon",
        "outputId": "fbc95c01-8e8f-4883-b24b-70eb8753ac91"
      },
      "execution_count": 24,
      "outputs": [
        {
          "output_type": "stream",
          "name": "stdout",
          "text": [
            "Enter a number: 7\n",
            "7 is not a prime number.\n"
          ]
        }
      ]
    },
    {
      "cell_type": "markdown",
      "source": [
        "2.Create a function to generate fibonacci sequence"
      ],
      "metadata": {
        "id": "xXKVYqQBMeJ4"
      }
    },
    {
      "cell_type": "code",
      "source": [
        "def fibonacci(n):\n",
        "  sequence={0}\n",
        "  a,b=0,1\n",
        "  for i in range(n):\n",
        "    sequence.add(a)\n",
        "    a,b=b,a+b\n",
        "  return sequence\n",
        "\n",
        "terms=int(input(\"enter the number of terms: \"))\n",
        "print(\"fibonacci sequence:\",fibonacci(terms))"
      ],
      "metadata": {
        "colab": {
          "base_uri": "https://localhost:8080/"
        },
        "id": "iKULsOnHMm9L",
        "outputId": "45491024-a577-40f6-ab8e-4ad1c6dd66bc"
      },
      "execution_count": 31,
      "outputs": [
        {
          "output_type": "stream",
          "name": "stdout",
          "text": [
            "enter the number of terms: 15\n",
            "fibonacci sequence: {0, 1, 2, 3, 34, 5, 8, 233, 377, 13, 144, 21, 55, 89}\n"
          ]
        }
      ]
    },
    {
      "cell_type": "markdown",
      "source": [
        "3.Use the math module to solve a program"
      ],
      "metadata": {
        "id": "bhmSvj6uOUhc"
      }
    },
    {
      "cell_type": "code",
      "source": [
        "import math\n",
        "angle=float(input(\"enter the angle in degrees: \"))\n",
        "radian=math.radians(angle)\n",
        "print(\"the sine of the angle is:\",math.sin(radian))\n",
        "print(\"the cosine of the angle is:\",math.cos(radian))\n",
        "\n"
      ],
      "metadata": {
        "colab": {
          "base_uri": "https://localhost:8080/"
        },
        "id": "JB1hZbHOOd09",
        "outputId": "8ac2e14e-efd3-4ba4-a401-6fd1b6782678"
      },
      "execution_count": 32,
      "outputs": [
        {
          "output_type": "stream",
          "name": "stdout",
          "text": [
            "enter the angle in degrees: 45\n",
            "the sine of the angle is: 0.7071067811865475\n",
            "the cosine of the angle is: 0.7071067811865476\n"
          ]
        }
      ]
    },
    {
      "cell_type": "markdown",
      "source": [
        "Q.Factorial using recursion"
      ],
      "metadata": {
        "id": "WiQzwONyPkDB"
      }
    },
    {
      "cell_type": "code",
      "source": [
        "def factorial(n):\n",
        "  if n == 0:\n",
        "    return 1\n",
        "  else:\n",
        "    return n * factorial(n - 1)\n",
        "\n",
        "num=int(input(\"enter a number: \"))\n",
        "print(\"factorial:\",factorial(num))"
      ],
      "metadata": {
        "colab": {
          "base_uri": "https://localhost:8080/"
        },
        "id": "D2EdXj0nPw1f",
        "outputId": "fe36bf20-322e-42af-ab5b-52b2b824a11f"
      },
      "execution_count": 35,
      "outputs": [
        {
          "output_type": "stream",
          "name": "stdout",
          "text": [
            "enter a number: 15\n",
            "factorial: 1307674368000\n"
          ]
        }
      ]
    },
    {
      "cell_type": "markdown",
      "source": [],
      "metadata": {
        "id": "LVrmEXdvODZB"
      }
    },
    {
      "cell_type": "markdown",
      "source": [
        "Q.Fibonacci series using function"
      ],
      "metadata": {
        "id": "IahkB0_DQhCd"
      }
    },
    {
      "cell_type": "code",
      "source": [
        "from logging import basicConfig\n",
        "def fibonacci(n):\n",
        "  a,b=0,1\n",
        "  for i in range(n):\n",
        "    print(a,end=\" \")\n",
        "    a,b=b,a+b\n",
        "count=int(input(\"enter the number of terms: \"))\n",
        "fibonacci(count)"
      ],
      "metadata": {
        "colab": {
          "base_uri": "https://localhost:8080/"
        },
        "id": "D8jrm4ocQmLh",
        "outputId": "b23f4b20-c501-4d8e-a115-3c006c8a3920"
      },
      "execution_count": 42,
      "outputs": [
        {
          "output_type": "stream",
          "name": "stdout",
          "text": [
            "enter the number of terms: 5\n",
            "0 1 1 2 3 "
          ]
        }
      ]
    },
    {
      "cell_type": "markdown",
      "source": [
        "Q.Reverse a string using a function"
      ],
      "metadata": {
        "id": "W8Ou8AWSSFpd"
      }
    },
    {
      "cell_type": "code",
      "source": [
        "def reverse_string(s):\n",
        "  return s[::-1]\n",
        "\n",
        "text=input(\"enter a string: \")\n",
        "print(\"reverse string:\", reverse_string(text))"
      ],
      "metadata": {
        "colab": {
          "base_uri": "https://localhost:8080/"
        },
        "id": "ScGE-w7LSRyj",
        "outputId": "29713278-ce54-4258-fb2d-2eaa0c86c0c7"
      },
      "execution_count": 44,
      "outputs": [
        {
          "output_type": "stream",
          "name": "stdout",
          "text": [
            "enter a string: \"mizz\"\n",
            "reverse string: \"zzim\"\n"
          ]
        }
      ]
    },
    {
      "cell_type": "markdown",
      "source": [
        "Q.Find GCD of two numbers using a function"
      ],
      "metadata": {
        "id": "Ec0WyX0fTeS3"
      }
    },
    {
      "cell_type": "code",
      "source": [
        "def gcd(a,b):\n",
        "  while b != 0:\n",
        "    a,b=b,a%b\n",
        "  return a\n",
        "\n",
        "num1=int(input(\"enter the first number: \"))\n",
        "num2=int(input(\"enter the second number: \"))\n",
        "print(\"GCD:\",gcd(num1,num2))"
      ],
      "metadata": {
        "colab": {
          "base_uri": "https://localhost:8080/"
        },
        "id": "plXIHYRRTwR7",
        "outputId": "f8042425-be90-4ac5-8814-11fd595f023d"
      },
      "execution_count": 45,
      "outputs": [
        {
          "output_type": "stream",
          "name": "stdout",
          "text": [
            "enter the first number: 7\n",
            "enter the second number: 15\n",
            "GCD: 1\n"
          ]
        }
      ]
    }
  ]
}