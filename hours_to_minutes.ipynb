{
  "nbformat": 4,
  "nbformat_minor": 0,
  "metadata": {
    "colab": {
      "provenance": []
    },
    "kernelspec": {
      "name": "python3",
      "display_name": "Python 3"
    },
    "language_info": {
      "name": "python"
    }
  },
  "cells": [
    {
      "cell_type": "code",
      "execution_count": 3,
      "metadata": {
        "colab": {
          "base_uri": "https://localhost:8080/"
        },
        "id": "VtyePrJ_TNlV",
        "outputId": "494f5b3f-fd12-4a72-b7e1-254388648c19"
      },
      "outputs": [
        {
          "output_type": "stream",
          "name": "stdout",
          "text": [
            "enter minutes25\n",
            "0.4166666666666667 25 1\n"
          ]
        }
      ],
      "source": [
        "a = int(input(\"enter minutes\"))\n",
        "hour = a/60\n",
        "minute = a%60\n",
        "c= a//a\n",
        "print(hour, minute, c)"
      ]
    }
  ]
}