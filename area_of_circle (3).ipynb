{
  "nbformat": 4,
  "nbformat_minor": 0,
  "metadata": {
    "colab": {
      "provenance": []
    },
    "kernelspec": {
      "name": "python3",
      "display_name": "Python 3"
    },
    "language_info": {
      "name": "python"
    }
  },
  "cells": [
    {
      "cell_type": "code",
      "execution_count": 1,
      "metadata": {
        "colab": {
          "base_uri": "https://localhost:8080/"
        },
        "id": "tA6d5dBxxMtR",
        "outputId": "68c51011-b2fb-463e-a035-da035bc842ed"
      },
      "outputs": [
        {
          "output_type": "stream",
          "name": "stdout",
          "text": [
            "enter the radius: 0.5\n",
            "area of circle is: 0.785\n"
          ]
        }
      ],
      "source": [
        "radius = float(input(\"enter the radius: \"))\n",
        "pi = 3.14\n",
        "area = pi * radius **2\n",
        "print(\"area of circle is:\", area)\n"
      ]
    }
  ]
}