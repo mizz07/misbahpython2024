{
  "nbformat": 4,
  "nbformat_minor": 0,
  "metadata": {
    "colab": {
      "provenance": []
    },
    "kernelspec": {
      "name": "python3",
      "display_name": "Python 3"
    },
    "language_info": {
      "name": "python"
    }
  },
  "cells": [
    {
      "cell_type": "code",
      "source": [
        "#creating a custom exception\n",
        "class NegativeNumberError(Exception):\n",
        "  pass\n",
        "def check_positive(number):\n",
        "  if number<=0:\n",
        "    raise NegativeNumberError(\"Negative number entered.\")\n",
        "\n",
        "try:\n",
        "  num=int(input(\"enter a number:\"))\n",
        "  check_positive(num)\n",
        "  print(\"You entered a positive number.\")\n",
        "except NegativeNumberError as e:\n",
        "  print(e)"
      ],
      "metadata": {
        "colab": {
          "base_uri": "https://localhost:8080/"
        },
        "id": "p-oj6eOHA7rH",
        "outputId": "8add8a7d-1151-428d-aa6c-dcaed08c768d"
      },
      "execution_count": 1,
      "outputs": [
        {
          "output_type": "stream",
          "name": "stdout",
          "text": [
            "enter a number:5\n",
            "You entered a positive number.\n"
          ]
        }
      ]
    }
  ]
}