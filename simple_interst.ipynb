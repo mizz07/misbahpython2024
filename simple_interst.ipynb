p = float(input("princle amount"))
n = float(input("number of years"))
r = float(input("rate of interst"))
si = (p*n*r*)/100
print(si)
