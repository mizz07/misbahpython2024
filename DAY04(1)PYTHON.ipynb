{
  "nbformat": 4,
  "nbformat_minor": 0,
  "metadata": {
    "colab": {
      "provenance": []
    },
    "kernelspec": {
      "name": "python3",
      "display_name": "Python 3"
    },
    "language_info": {
      "name": "python"
    }
  },
  "cells": [
    {
      "cell_type": "markdown",
      "source": [
        "Data structures in python\n",
        "\n",
        "List\n",
        "\n"
      ],
      "metadata": {
        "id": "97pgbBcIKvCK"
      }
    },
    {
      "cell_type": "code",
      "source": [
        "#creating a list\n",
        "numbers = [1,2,3,4,5]\n",
        "mixed = [1,\"hello\",3.14]\n",
        "print(numbers)\n",
        "print(mixed)"
      ],
      "metadata": {
        "colab": {
          "base_uri": "https://localhost:8080/"
        },
        "id": "P7I1bJrqKzyJ",
        "outputId": "a8267186-feb9-4ca0-9220-1787b9684ebe"
      },
      "execution_count": null,
      "outputs": [
        {
          "output_type": "stream",
          "name": "stdout",
          "text": [
            "[1, 2, 3, 4, 5]\n",
            "[1, 'hello', 3.14]\n"
          ]
        }
      ]
    },
    {
      "cell_type": "code",
      "source": [
        "#list operations\n",
        "#accessing items\n",
        "print(numbers[0])\n",
        "print(numbers[-1])"
      ],
      "metadata": {
        "colab": {
          "base_uri": "https://localhost:8080/"
        },
        "id": "KvAUyOwNZJvE",
        "outputId": "707cc8ba-330e-479c-a229-395071eb0b49"
      },
      "execution_count": null,
      "outputs": [
        {
          "output_type": "stream",
          "name": "stdout",
          "text": [
            "1\n",
            "5\n"
          ]
        }
      ]
    },
    {
      "cell_type": "code",
      "source": [
        "#modifying items\n",
        "numbers[0] = 10\n",
        "print(numbers)"
      ],
      "metadata": {
        "colab": {
          "base_uri": "https://localhost:8080/"
        },
        "id": "aYv3Ez2FZiVt",
        "outputId": "df37743f-b164-408f-b311-ab5fb91180c6"
      },
      "execution_count": null,
      "outputs": [
        {
          "output_type": "stream",
          "name": "stdout",
          "text": [
            "[10, 2, 3, 4, 5]\n"
          ]
        }
      ]
    },
    {
      "cell_type": "code",
      "source": [
        "#adding items\n",
        "#appends()\n",
        "numbers.append(6)\n",
        "print(numbers)\n"
      ],
      "metadata": {
        "colab": {
          "base_uri": "https://localhost:8080/"
        },
        "id": "6-Oh1XcMZuq1",
        "outputId": "e22e2e04-064e-41c5-9d85-0711c202c311"
      },
      "execution_count": null,
      "outputs": [
        {
          "output_type": "stream",
          "name": "stdout",
          "text": [
            "[10, 2, 3, 4, 5, 6, 6]\n"
          ]
        }
      ]
    },
    {
      "cell_type": "code",
      "source": [
        "#insert()\n",
        "numbers.insert(1,15)\n",
        "print(numbers)"
      ],
      "metadata": {
        "colab": {
          "base_uri": "https://localhost:8080/"
        },
        "id": "1jN31oGIaP0t",
        "outputId": "599945d6-2a38-42ef-aab1-793b2d7ccbe8"
      },
      "execution_count": null,
      "outputs": [
        {
          "output_type": "stream",
          "name": "stdout",
          "text": [
            "[10, 15, 2, 3, 4, 5, 6, 6]\n"
          ]
        }
      ]
    },
    {
      "cell_type": "code",
      "source": [
        "#removing items\n",
        "#remove()\n",
        "numbers.remove(2)\n",
        "print(numbers)"
      ],
      "metadata": {
        "colab": {
          "base_uri": "https://localhost:8080/"
        },
        "id": "1-x52VDrbcKe",
        "outputId": "a90d6fe9-dae8-4dd3-d865-1a4220168ef0"
      },
      "execution_count": null,
      "outputs": [
        {
          "output_type": "stream",
          "name": "stdout",
          "text": [
            "[10, 15, 3, 4, 5, 6, 6]\n"
          ]
        }
      ]
    },
    {
      "cell_type": "code",
      "source": [
        "#pop()\n",
        "numbers.pop(2)\n",
        "print(numbers)"
      ],
      "metadata": {
        "colab": {
          "base_uri": "https://localhost:8080/"
        },
        "id": "eZSCAIGdcANR",
        "outputId": "c0c7821b-50c8-430b-e4c0-f8006b78d928"
      },
      "execution_count": null,
      "outputs": [
        {
          "output_type": "stream",
          "name": "stdout",
          "text": [
            "[10, 15, 4, 5, 6, 6]\n"
          ]
        }
      ]
    },
    {
      "cell_type": "code",
      "source": [
        "#len()\n",
        "len(numbers)\n",
        "print(numbers)"
      ],
      "metadata": {
        "colab": {
          "base_uri": "https://localhost:8080/"
        },
        "id": "5hww1DRsck3U",
        "outputId": "54c78ad8-f962-4ec6-fe8d-01b89318abed"
      },
      "execution_count": null,
      "outputs": [
        {
          "output_type": "stream",
          "name": "stdout",
          "text": [
            "[10, 15, 4, 5, 6, 6]\n"
          ]
        }
      ]
    },
    {
      "cell_type": "code",
      "source": [
        "#sort()\n",
        "numbers.sort()\n",
        "print(numbers)"
      ],
      "metadata": {
        "colab": {
          "base_uri": "https://localhost:8080/"
        },
        "id": "kEewTD1ldAiT",
        "outputId": "14be3979-b0f2-4bee-9fda-3b769f556e4a"
      },
      "execution_count": null,
      "outputs": [
        {
          "output_type": "stream",
          "name": "stdout",
          "text": [
            "[4, 5, 6, 6, 10, 15]\n"
          ]
        }
      ]
    },
    {
      "cell_type": "code",
      "source": [
        "#reverse()\n",
        "list.reverse(numbers)\n",
        "print(numbers)"
      ],
      "metadata": {
        "colab": {
          "base_uri": "https://localhost:8080/"
        },
        "id": "5_nEwPqedh_6",
        "outputId": "a39a6002-1012-44d4-ea4c-306fdb81f545"
      },
      "execution_count": null,
      "outputs": [
        {
          "output_type": "stream",
          "name": "stdout",
          "text": [
            "[15, 10, 6, 6, 5, 4]\n"
          ]
        }
      ]
    },
    {
      "cell_type": "code",
      "source": [
        "#iteratig through a list\n",
        "for num in numbers:\n",
        "  print(num)\n"
      ],
      "metadata": {
        "colab": {
          "base_uri": "https://localhost:8080/"
        },
        "id": "kIQti38Zd3TE",
        "outputId": "14111bb8-5ed2-4a97-9d8a-0e3418d9d1a8"
      },
      "execution_count": null,
      "outputs": [
        {
          "output_type": "stream",
          "name": "stdout",
          "text": [
            "15\n",
            "10\n",
            "6\n",
            "6\n",
            "5\n",
            "4\n"
          ]
        }
      ]
    },
    {
      "cell_type": "markdown",
      "source": [
        "Tuples\n",
        "\n"
      ],
      "metadata": {
        "id": "Nplp7RpRd-pI"
      }
    },
    {
      "cell_type": "code",
      "source": [
        "#creating a tuple\n",
        "coordinates = (10,20,30)\n",
        "print(coordinates)"
      ],
      "metadata": {
        "colab": {
          "base_uri": "https://localhost:8080/"
        },
        "id": "kqoEbvTneNce",
        "outputId": "6ff100b1-119d-48ed-bc84-75f2467026d6"
      },
      "execution_count": null,
      "outputs": [
        {
          "output_type": "stream",
          "name": "stdout",
          "text": [
            "(10, 20, 30)\n"
          ]
        }
      ]
    },
    {
      "cell_type": "code",
      "source": [
        "#accessing items in a tuple\n",
        "print(coordinates[0])"
      ],
      "metadata": {
        "colab": {
          "base_uri": "https://localhost:8080/"
        },
        "id": "Q2czNfoTee2w",
        "outputId": "3e9fecba-e5d3-4f5c-9d51-2da458b48b51"
      },
      "execution_count": null,
      "outputs": [
        {
          "output_type": "stream",
          "name": "stdout",
          "text": [
            "10\n"
          ]
        }
      ]
    },
    {
      "cell_type": "markdown",
      "source": [
        "Dictionaries\n",
        "\n"
      ],
      "metadata": {
        "id": "DM0U64z6emrT"
      }
    },
    {
      "cell_type": "code",
      "source": [
        "#creating a dictionary\n",
        "student = {\n",
        "    \"name\": \"Alice\",\n",
        "    \"age\": 20,\n",
        "    \"marks\":85}\n",
        "print(student)"
      ],
      "metadata": {
        "colab": {
          "base_uri": "https://localhost:8080/"
        },
        "id": "2OhUJTLdexyJ",
        "outputId": "4b79e9b6-8029-44a9-f98e-f3717ede1d06"
      },
      "execution_count": null,
      "outputs": [
        {
          "output_type": "stream",
          "name": "stdout",
          "text": [
            "{'name': 'Alice', 'age': 20, 'marks': 85}\n"
          ]
        }
      ]
    },
    {
      "cell_type": "code",
      "source": [
        "#accessing and modifying\n",
        "#accessing\n",
        "student = {\n",
        "    \"name\": \"Alice\",\n",
        "    \"age\": 20,\n",
        "    \"marks\":85}\n",
        "print(student[\"name\"])"
      ],
      "metadata": {
        "colab": {
          "base_uri": "https://localhost:8080/"
        },
        "id": "cCBgn1IPqX7t",
        "outputId": "4c291122-6edb-4a22-a634-5641887a10b6"
      },
      "execution_count": null,
      "outputs": [
        {
          "output_type": "stream",
          "name": "stdout",
          "text": [
            "Alice\n"
          ]
        }
      ]
    },
    {
      "cell_type": "code",
      "source": [
        "#modifying\n",
        "student = {\n",
        "    \"name\": \"Alice\",\n",
        "    \"age\": 20,\n",
        "    \"marks\":85}\n",
        "student[\"age\"] = 21\n",
        "print(student)"
      ],
      "metadata": {
        "colab": {
          "base_uri": "https://localhost:8080/"
        },
        "id": "5QVujdmcqlsm",
        "outputId": "a6ce11dd-2242-47af-a427-ca7143b7a84b"
      },
      "execution_count": null,
      "outputs": [
        {
          "output_type": "stream",
          "name": "stdout",
          "text": [
            "{'name': 'Alice', 'age': 21, 'marks': 85}\n"
          ]
        }
      ]
    },
    {
      "cell_type": "code",
      "source": [
        "#adding\n",
        "student = {\n",
        "    \"name\": \"Alice\",\n",
        "    \"age\": 20,\n",
        "    \"marks\":85}\n",
        "student[\"grade\"] = \"A\"\n",
        "print(student)"
      ],
      "metadata": {
        "colab": {
          "base_uri": "https://localhost:8080/"
        },
        "id": "s2thmI2Gq0ZW",
        "outputId": "d3f0ba42-9192-4309-c23e-ca7e436c73e4"
      },
      "execution_count": null,
      "outputs": [
        {
          "output_type": "stream",
          "name": "stdout",
          "text": [
            "{'name': 'Alice', 'age': 20, 'marks': 85, 'grade': 'A'}\n"
          ]
        }
      ]
    },
    {
      "cell_type": "code",
      "source": [
        "#removing\n",
        "student = {\n",
        "    \"name\": \"Alice\",\n",
        "    \"age\": 20,\n",
        "    \"marks\":85}\n",
        "del student[\"age\"]\n",
        "print(student)"
      ],
      "metadata": {
        "colab": {
          "base_uri": "https://localhost:8080/"
        },
        "id": "WUhO-Fecq8zH",
        "outputId": "74459b6f-ed26-48bd-f513-4a187fbafc48"
      },
      "execution_count": null,
      "outputs": [
        {
          "output_type": "stream",
          "name": "stdout",
          "text": [
            "{'name': 'Alice', 'marks': 85}\n"
          ]
        }
      ]
    },
    {
      "cell_type": "code",
      "source": [
        "#iterating through a dictionary\n",
        "student = {\n",
        "    \"name\": \"Alice\",\n",
        "    \"age\": 20,\n",
        "    \"marks\":85}\n",
        "for key, value in student.items():\n",
        "  print(key, value)"
      ],
      "metadata": {
        "colab": {
          "base_uri": "https://localhost:8080/"
        },
        "id": "Iy8yTm3Nri8B",
        "outputId": "e96f10dc-c190-43fb-9ec1-e38b9b8ff7b3"
      },
      "execution_count": null,
      "outputs": [
        {
          "output_type": "stream",
          "name": "stdout",
          "text": [
            "name Alice\n",
            "age 20\n",
            "marks 85\n"
          ]
        }
      ]
    },
    {
      "cell_type": "markdown",
      "source": [
        "Sets"
      ],
      "metadata": {
        "id": "faNqTj0Vt1lc"
      }
    },
    {
      "cell_type": "code",
      "source": [
        "#creating a set\n",
        "numbers = {1,2,3,4,5}\n",
        "print(numbers)"
      ],
      "metadata": {
        "colab": {
          "base_uri": "https://localhost:8080/"
        },
        "id": "2ijjGTKLt6cg",
        "outputId": "9dd451a1-f238-40d3-db4d-bca02c4070b8"
      },
      "execution_count": null,
      "outputs": [
        {
          "output_type": "stream",
          "name": "stdout",
          "text": [
            "{1, 2, 3, 4, 5}\n"
          ]
        }
      ]
    },
    {
      "cell_type": "code",
      "source": [
        "#set operations\n",
        "#adding items\n",
        "numbers = {1,2,3,4,5}\n",
        "numbers.add(6)\n",
        "print(numbers)\n"
      ],
      "metadata": {
        "colab": {
          "base_uri": "https://localhost:8080/"
        },
        "id": "pMOd_6DduSL5",
        "outputId": "9938a89a-85f9-469d-bdc9-99159174ad8b"
      },
      "execution_count": null,
      "outputs": [
        {
          "output_type": "stream",
          "name": "stdout",
          "text": [
            "{1, 2, 3, 4, 5, 6}\n"
          ]
        }
      ]
    },
    {
      "cell_type": "code",
      "source": [
        "#removing items\n",
        "numbers = {1,2,3,4,5}\n",
        "numbers.remove(3)\n",
        "print(numbers)"
      ],
      "metadata": {
        "colab": {
          "base_uri": "https://localhost:8080/"
        },
        "id": "2ptDFoR4ujD6",
        "outputId": "d3176204-01f3-4560-a6da-d0002a1734eb"
      },
      "execution_count": null,
      "outputs": [
        {
          "output_type": "stream",
          "name": "stdout",
          "text": [
            "{1, 2, 4, 5}\n"
          ]
        }
      ]
    },
    {
      "cell_type": "markdown",
      "source": [
        "Hands on practice"
      ],
      "metadata": {
        "id": "zNZHra6fu7he"
      }
    },
    {
      "cell_type": "code",
      "source": [
        "#manipulating lists\n",
        "fruits=[\"apple\",\"banana\",\"cherry\"]\n",
        "fruits.append(\"orange\")\n",
        "fruits.remove(\"banana\")\n",
        "print(fruits)"
      ],
      "metadata": {
        "colab": {
          "base_uri": "https://localhost:8080/"
        },
        "id": "rMSp7-e9vAcV",
        "outputId": "f419e7f1-dc8b-41f8-e908-db562476f838"
      },
      "execution_count": null,
      "outputs": [
        {
          "output_type": "stream",
          "name": "stdout",
          "text": [
            "['apple', 'cherry', 'orange']\n"
          ]
        }
      ]
    },
    {
      "cell_type": "code",
      "source": [
        "#creating a dictionary\n",
        "book={\n",
        "  \"title\":\"python basics\",\n",
        "  \"author\":\"john doe\",\n",
        "  \"year\":2021\n",
        "}\n",
        "print(book[\"title\"])\n",
        "book[\"year\"]=2022\n",
        "print(book)"
      ],
      "metadata": {
        "colab": {
          "base_uri": "https://localhost:8080/"
        },
        "id": "A_3IG_nxvVQS",
        "outputId": "13af357c-ea55-46e4-83f0-c44d89c6cda3"
      },
      "execution_count": null,
      "outputs": [
        {
          "output_type": "stream",
          "name": "stdout",
          "text": [
            "python basics\n",
            "{'title': 'python basics', 'author': 'john doe', 'year': 2022}\n"
          ]
        }
      ]
    },
    {
      "cell_type": "code",
      "source": [
        "#working with sets\n",
        "set1={1,2,3,4}\n",
        "set2={3,4,5,6}\n",
        "print(\"union:\",set1|set2)\n",
        "print(\"intersection:\",set1 & set2)\n",
        "print(\"difference:\",set1 - set2)"
      ],
      "metadata": {
        "colab": {
          "base_uri": "https://localhost:8080/"
        },
        "id": "OuPP769Xv2sS",
        "outputId": "5e84ca9f-37ff-4ba0-bf43-9bcff52f51cb"
      },
      "execution_count": null,
      "outputs": [
        {
          "output_type": "stream",
          "name": "stdout",
          "text": [
            "union: {1, 2, 3, 4, 5, 6}\n",
            "intersection: {3, 4}\n",
            "difference: {1, 2}\n"
          ]
        }
      ]
    },
    {
      "cell_type": "code",
      "source": [
        "#merge two lines\n",
        "list1=[1,2,3]\n",
        "list2=[4,5,6]\n",
        "merged_list=list1+list2\n",
        "print(\"merged_list:\",merged_list)"
      ],
      "metadata": {
        "colab": {
          "base_uri": "https://localhost:8080/"
        },
        "id": "mpS-bPT9wmeA",
        "outputId": "338df3be-8b55-4914-f103-4b23066be631"
      },
      "execution_count": null,
      "outputs": [
        {
          "output_type": "stream",
          "name": "stdout",
          "text": [
            "merged_list: [1, 2, 3, 4, 5, 6]\n"
          ]
        }
      ]
    },
    {
      "cell_type": "code",
      "source": [
        "#dictionary operations\n",
        "student={\"name\":\"john\",\"age\":21,\"grade\":85}\n",
        "student[\"marks\"]=90\n",
        "print(\"updated marks:\",student[\"marks\"])"
      ],
      "metadata": {
        "colab": {
          "base_uri": "https://localhost:8080/"
        },
        "id": "7XM2SsXRw6RZ",
        "outputId": "4f60bfb9-2d09-49eb-ff51-1eac35150aa7"
      },
      "execution_count": null,
      "outputs": [
        {
          "output_type": "stream",
          "name": "stdout",
          "text": [
            "updated marks: 90\n"
          ]
        }
      ]
    },
    {
      "cell_type": "code",
      "source": [
        "#find the maximum and minimum in a list\n",
        "numbers=[10,20,30,40,50]\n",
        "print(\"maximum:\",max(numbers))\n",
        "print(\"minimum:\",min(numbers))"
      ],
      "metadata": {
        "colab": {
          "base_uri": "https://localhost:8080/"
        },
        "id": "XXseeoC0xwSD",
        "outputId": "ba6cbb59-257d-4ad3-a7ea-936c5610cbe4"
      },
      "execution_count": null,
      "outputs": [
        {
          "output_type": "stream",
          "name": "stdout",
          "text": [
            "maximum: 50\n",
            "minimum: 10\n"
          ]
        }
      ]
    },
    {
      "cell_type": "code",
      "source": [
        "#count frequency of elements in a list\n",
        "\n",
        "numbers=[1,2,2,3,3,3,4,4,4,4]\n",
        "frequency={}\n",
        "for num in numbers:\n",
        "    frequency[num] = frequency.get(num,0)+1\n",
        "print(frequency)"
      ],
      "metadata": {
        "colab": {
          "base_uri": "https://localhost:8080/"
        },
        "id": "RZ41K33CyETo",
        "outputId": "61973eb6-bbfb-4f45-d662-6509ebbb5988"
      },
      "execution_count": null,
      "outputs": [
        {
          "output_type": "stream",
          "name": "stdout",
          "text": [
            "{1: 1, 2: 2, 3: 3, 4: 4}\n"
          ]
        }
      ]
    },
    {
      "cell_type": "code",
      "source": [
        "#sort a list of tuples by the second element\n",
        "tuples=[(\"a\",5),(\"b\",2),(\"c\",8)]\n",
        "sorted_tuples=sorted(tuples,key=lambda x:x[1])\n",
        "print(sorted_tuples)"
      ],
      "metadata": {
        "colab": {
          "base_uri": "https://localhost:8080/"
        },
        "id": "JBmY_qv4zRSb",
        "outputId": "b0fde42d-1d16-4ef7-a2c9-741b17a57d41"
      },
      "execution_count": null,
      "outputs": [
        {
          "output_type": "stream",
          "name": "stdout",
          "text": [
            "[('b', 2), ('a', 5), ('c', 8)]\n"
          ]
        }
      ]
    },
    {
      "cell_type": "code",
      "source": [
        "#palindrome or not\n",
        "number=int(input(\"enter a number: \"))\n",
        "reverse_number=0\n",
        "temp=number\n",
        "\n",
        "while temp>0:\n",
        "           digit=temp%10\n",
        "           reverse_number=reverse_number*10+digit\n",
        "           temp=temp//10\n",
        "\n",
        "if number==reverse_number:\n",
        "    print(f\" {number} is palindrome\")\n",
        "else:\n",
        "    print(f\" {number} is not palindrome\")\n"
      ],
      "metadata": {
        "colab": {
          "base_uri": "https://localhost:8080/"
        },
        "id": "lRuszpKS3iRt",
        "outputId": "d696d77e-3ef5-4add-bf20-e1dd587331cc"
      },
      "execution_count": null,
      "outputs": [
        {
          "output_type": "stream",
          "name": "stdout",
          "text": [
            "enter a number: 555\n",
            " 555 is palindrome\n"
          ]
        }
      ]
    },
    {
      "cell_type": "code",
      "source": [
        "#palindrome or not\n",
        "number=input(\"enter a number: \")\n",
        "if str(number)==str(number)[::-1]:\n",
        "    print(\"palindrome\")\n",
        "else:\n",
        "    print(\"not palindrome\")"
      ],
      "metadata": {
        "colab": {
          "base_uri": "https://localhost:8080/"
        },
        "id": "dJB3IK9P6qT2",
        "outputId": "bfab12b0-cf9a-4b62-9495-225e10211b97"
      },
      "execution_count": null,
      "outputs": [
        {
          "output_type": "stream",
          "name": "stdout",
          "text": [
            "enter a number: bob\n",
            "palindrome\n"
          ]
        }
      ]
    }
  ]
}