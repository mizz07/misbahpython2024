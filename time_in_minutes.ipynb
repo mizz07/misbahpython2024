{
  "nbformat": 4,
  "nbformat_minor": 0,
  "metadata": {
    "colab": {
      "provenance": []
    },
    "kernelspec": {
      "name": "python3",
      "display_name": "Python 3"
    },
    "language_info": {
      "name": "python"
    }
  },
  "cells": [
    {
      "cell_type": "code",
      "source": [
        "minutes = int(input(\"enter time in minutes:\"))\n",
        "hours = minutes // 60\n",
        "b = minutes %60\n",
        "print(f\"time: {hours} hours and {b} minutes\")"
      ],
      "metadata": {
        "colab": {
          "base_uri": "https://localhost:8080/"
        },
        "id": "W7bSHK5BUTMc",
        "outputId": "0beabc0b-5022-4b0e-9818-5af5b125971c"
      },
      "execution_count": 5,
      "outputs": [
        {
          "output_type": "stream",
          "name": "stdout",
          "text": [
            "enter time in minutes:160\n",
            "time: 2 hours and 40 minutes\n"
          ]
        }
      ]
    }
  ]
}