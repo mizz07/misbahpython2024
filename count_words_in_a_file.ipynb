{
  "nbformat": 4,
  "nbformat_minor": 0,
  "metadata": {
    "colab": {
      "provenance": []
    },
    "kernelspec": {
      "name": "python3",
      "display_name": "Python 3"
    },
    "language_info": {
      "name": "python"
    }
  },
  "cells": [
    {
      "cell_type": "code",
      "execution_count": 1,
      "metadata": {
        "colab": {
          "base_uri": "https://localhost:8080/"
        },
        "id": "YihdpwokD7UJ",
        "outputId": "f07b6160-0dcd-4434-80c0-822743595775"
      },
      "outputs": [
        {
          "output_type": "stream",
          "name": "stdout",
          "text": [
            "Enter the path to the file: misbah\n",
            "Error: The file 'misbah' was not found.\n"
          ]
        }
      ],
      "source": [
        "#count words in a file\n",
        "def count_words_in_file(file_path):\n",
        "    try:\n",
        "        with open(file_path, 'r') as file:\n",
        "            return len(file.read().split())\n",
        "    except FileNotFoundError:\n",
        "        print(f\"Error: The file '{file_path}' was not found.\")\n",
        "    except Exception as e:\n",
        "        print(f\"An error occurred: {e}\")\n",
        "\n",
        "file_path = input(\"Enter the path to the file: \")\n",
        "word_count = count_words_in_file(file_path)\n",
        "if word_count:\n",
        "    print(f\"The file contains {word_count} words.\")"
      ]
    }
  ]
}