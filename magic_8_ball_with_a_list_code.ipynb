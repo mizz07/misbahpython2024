{
  "nbformat": 4,
  "nbformat_minor": 0,
  "metadata": {
    "colab": {
      "provenance": []
    },
    "kernelspec": {
      "name": "python3",
      "display_name": "Python 3"
    },
    "language_info": {
      "name": "python"
    }
  },
  "cells": [
    {
      "cell_type": "code",
      "execution_count": 1,
      "metadata": {
        "colab": {
          "base_uri": "https://localhost:8080/"
        },
        "id": "lQgC19aSrHpO",
        "outputId": "d43fa051-d12e-4dcf-81fe-ec7979ee916f"
      },
      "outputs": [
        {
          "output_type": "stream",
          "name": "stdout",
          "text": [
            "Ask the Magic 8 Ball a question: \n",
            "hazy\n",
            "My reply is no\n"
          ]
        }
      ],
      "source": [
        "import random\n",
        "responses = [\n",
        "\"It is certain\",\n",
        "\"Reply hazy, try again\",\n",
        "\"Don’t count on it\",\n",
        "\"Yes, definitely\",\n",
        "\"Ask again later\",\n",
        "\"My reply is no\",\n",
        "\"Outlook not so good\",\n",
        "\"Signs point to yes\"\n",
        "]\n",
        "print(\"Ask the Magic 8 Ball a question: \")\n",
        "input()\n",
        "print(random.choice(responses))"
      ]
    }
  ]
}