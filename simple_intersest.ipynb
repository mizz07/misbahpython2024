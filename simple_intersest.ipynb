{
  "nbformat": 4,
  "nbformat_minor": 0,
  "metadata": {
    "colab": {
      "provenance": []
    },
    "kernelspec": {
      "name": "python3",
      "display_name": "Python 3"
    },
    "language_info": {
      "name": "python"
    }
  },
  "cells": [
    {
      "cell_type": "code",
      "execution_count": 1,
      "metadata": {
        "colab": {
          "base_uri": "https://localhost:8080/"
        },
        "id": "z0rWo5WxS5pb",
        "outputId": "b983e9e1-6a17-4073-9f00-11d8bc99be11"
      },
      "outputs": [
        {
          "output_type": "stream",
          "name": "stdout",
          "text": [
            "principle amount1000\n",
            "number of years2\n",
            "rate of interest3\n",
            "60.0\n"
          ]
        }
      ],
      "source": [
        "p = float(input(\"principle amount\"))\n",
        "n = float(input(\"number of years\"))\n",
        "r = float(input(\"rate of interest\"))\n",
        "si = (p*n*r)/100\n",
        "print(si)"
      ]
    }
  ]
}