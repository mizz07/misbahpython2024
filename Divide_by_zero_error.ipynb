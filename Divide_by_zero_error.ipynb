{
  "nbformat": 4,
  "nbformat_minor": 0,
  "metadata": {
    "colab": {
      "provenance": []
    },
    "kernelspec": {
      "name": "python3",
      "display_name": "Python 3"
    },
    "language_info": {
      "name": "python"
    }
  },
  "cells": [
    {
      "cell_type": "code",
      "source": [
        "#handling division by zero error\n",
        "try:\n",
        "  num1=int(input(\"enter a number:\"))\n",
        "  num2=int(input(\"enter another number:\"))\n",
        "  result=num1/num2\n",
        "  print(\"result:\",result)\n",
        "except ZeroDivisionError:\n",
        "  print(\"cannot divide by zero\")\n",
        "except ValueError:\n",
        "  print(\"invalid input! please enter a valid number\")"
      ],
      "metadata": {
        "colab": {
          "base_uri": "https://localhost:8080/"
        },
        "id": "Q5n5AAKsBbdv",
        "outputId": "e9ccefab-c07c-4116-c785-eda309ccba15"
      },
      "execution_count": 2,
      "outputs": [
        {
          "output_type": "stream",
          "name": "stdout",
          "text": [
            "enter a number:0\n",
            "enter another number:5\n",
            "result: 0.0\n"
          ]
        }
      ]
    }
  ]
}