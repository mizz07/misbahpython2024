{
  "nbformat": 4,
  "nbformat_minor": 0,
  "metadata": {
    "colab": {
      "provenance": []
    },
    "kernelspec": {
      "name": "python3",
      "display_name": "Python 3"
    },
    "language_info": {
      "name": "python"
    }
  },
  "cells": [
    {
      "cell_type": "markdown",
      "source": [
        "File Handling and Error Handling in Python\n",
        "\n",
        "File operations"
      ],
      "metadata": {
        "id": "fIgTkr1-jN5B"
      }
    },
    {
      "cell_type": "code",
      "source": [
        "#creating a file\n",
        "file_object=open(\"/content/misbah.txt\",\"r\")\n"
      ],
      "metadata": {
        "id": "VVwWp51LjT2F"
      },
      "execution_count": null,
      "outputs": []
    },
    {
      "cell_type": "code",
      "source": [
        "#Modes:\n",
        "#reading a file\n",
        "file_object=open(\"/content/misbah.txt\",\"r\")\n",
        "print(file_object.read())"
      ],
      "metadata": {
        "colab": {
          "base_uri": "https://localhost:8080/"
        },
        "id": "L4GNjjxqlInA",
        "outputId": "b894cb12-b0e5-4bec-8869-94ab2a124d78"
      },
      "execution_count": null,
      "outputs": [
        {
          "output_type": "stream",
          "name": "stdout",
          "text": [
            "MISBAH HARMAIN\n"
          ]
        }
      ]
    },
    {
      "cell_type": "code",
      "source": [
        "#reading all lines\n",
        "file_object=open(\"/content/drive/MyDrive/misbah.txt\",\"r\")\n",
        "print(file_object.readlines())"
      ],
      "metadata": {
        "colab": {
          "base_uri": "https://localhost:8080/"
        },
        "id": "xR2OMnFGAGuO",
        "outputId": "a0763ae1-83c3-451c-e285-de1d2b194750"
      },
      "execution_count": null,
      "outputs": [
        {
          "output_type": "stream",
          "name": "stdout",
          "text": [
            "['python is awesome!\\n', 'python is easy to learn']\n"
          ]
        }
      ]
    },
    {
      "cell_type": "code",
      "source": [
        "#writing to a file\n",
        "file_object=open(\"/content/misbah.txt\",\"w\")\n",
        "file_object.write(\"hello world\")"
      ],
      "metadata": {
        "colab": {
          "base_uri": "https://localhost:8080/"
        },
        "id": "qu7YzIzylTx3",
        "outputId": "c2eb0a2f-3823-4cf2-a933-98393cf13834"
      },
      "execution_count": null,
      "outputs": [
        {
          "output_type": "execute_result",
          "data": {
            "text/plain": [
              "11"
            ]
          },
          "metadata": {},
          "execution_count": 2
        }
      ]
    },
    {
      "cell_type": "code",
      "source": [
        "#appending to a file\n",
        "file_object=open(\"/content/misbah.txt\",\"a\")\n",
        "file_object.write(\"hello india\")"
      ],
      "metadata": {
        "colab": {
          "base_uri": "https://localhost:8080/"
        },
        "id": "DNEF-1e4lmrX",
        "outputId": "bfc59099-f55a-4a86-d3af-09d362e59110"
      },
      "execution_count": null,
      "outputs": [
        {
          "output_type": "execute_result",
          "data": {
            "text/plain": [
              "11"
            ]
          },
          "metadata": {},
          "execution_count": 12
        }
      ]
    },
    {
      "cell_type": "code",
      "source": [
        "#using with statement\n",
        "with open(\"/content/misbah.txt\",\"r\") as file_object:\n",
        "  print(file_object.read())"
      ],
      "metadata": {
        "colab": {
          "base_uri": "https://localhost:8080/"
        },
        "id": "ukrZLYZ3mpQr",
        "outputId": "27aaeff0-dbda-4970-ffa2-518023efbabd"
      },
      "execution_count": null,
      "outputs": [
        {
          "output_type": "stream",
          "name": "stdout",
          "text": [
            "hello world hello india\n"
          ]
        }
      ]
    },
    {
      "cell_type": "code",
      "source": [
        "#file handling modes\n",
        "#binary mode\n",
        "with open(\"/content/image.jpg\",\"rb\")as file:\n",
        "  data=file.read()"
      ],
      "metadata": {
        "id": "GW6t7HGTmzej"
      },
      "execution_count": null,
      "outputs": []
    },
    {
      "cell_type": "markdown",
      "source": [
        "Error Handling"
      ],
      "metadata": {
        "id": "RL8ONFVTubfy"
      }
    },
    {
      "cell_type": "code",
      "source": [
        "#try-expecpt block\n",
        "try:\n",
        "  num=int(input(\"enter a number:\"))\n",
        "  print(10/num)\n",
        "except ZeroDivisionError:\n",
        "  print(\"cannot divide by zero\")\n",
        "except ValueError:\n",
        "  print(\"Invalid input! please enter a valid number\")"
      ],
      "metadata": {
        "colab": {
          "base_uri": "https://localhost:8080/"
        },
        "id": "VjwmVDTbvSZo",
        "outputId": "a451a6fd-23b7-4ee6-9121-c71911de711d"
      },
      "execution_count": null,
      "outputs": [
        {
          "output_type": "stream",
          "name": "stdout",
          "text": [
            "enter a number:0\n",
            "cannot divide by zero\n"
          ]
        }
      ]
    },
    {
      "cell_type": "code",
      "source": [
        "#finally block\n",
        "try:\n",
        "  file=open(\"/content/misbah.txt\",\"r\")\n",
        "except FileNotFoundError:\n",
        "  print(\"file not found.\")\n",
        "finally:\n",
        "  print(\"exception complete.\")\n"
      ],
      "metadata": {
        "colab": {
          "base_uri": "https://localhost:8080/"
        },
        "id": "SfYPACEZwL37",
        "outputId": "ef51be64-3245-416e-c7df-62ef98a96765"
      },
      "execution_count": null,
      "outputs": [
        {
          "output_type": "stream",
          "name": "stdout",
          "text": [
            "file not found.\n",
            "exception complete.\n"
          ]
        }
      ]
    },
    {
      "cell_type": "code",
      "source": [
        "#raising exceptions\n",
        "def check_age(age):\n",
        "  if age<18:\n",
        "    raise ValueError(\"Age must be 18 or older.\")\n",
        "  return true\n",
        "\n",
        "try:\n",
        "   check_age(16)\n",
        "except ValueError as e:\n",
        "  print(e)"
      ],
      "metadata": {
        "colab": {
          "base_uri": "https://localhost:8080/"
        },
        "id": "4D2BBaI10gbu",
        "outputId": "b79acac2-d4a7-4ce7-e1d0-82eacd00b1cc"
      },
      "execution_count": null,
      "outputs": [
        {
          "output_type": "stream",
          "name": "stdout",
          "text": [
            "Age must be 18 or older.\n"
          ]
        }
      ]
    },
    {
      "cell_type": "markdown",
      "source": [
        "Hands on prctice"
      ],
      "metadata": {
        "id": "7LhRzKoV1mCR"
      }
    },
    {
      "cell_type": "code",
      "source": [
        "#reading and writing to a file\n",
        "with open(\"/content/misbah.txt\",\"w\")as file:\n",
        "  file.write(\"python is awesome!\\n\")\n",
        "\n",
        "  with open(\"/content/misbah.txt\",\"r\")as file:\n",
        "    print(file.read())"
      ],
      "metadata": {
        "colab": {
          "base_uri": "https://localhost:8080/"
        },
        "id": "9kNg1rp7171-",
        "outputId": "634b9f53-9221-40a5-97ec-ac5163214abc"
      },
      "execution_count": null,
      "outputs": [
        {
          "output_type": "stream",
          "name": "stdout",
          "text": [
            "\n"
          ]
        }
      ]
    },
    {
      "cell_type": "code",
      "source": [
        "#appending data to a file\n",
        "with open(\"/content/misbah.txt\",\"a\")as file:\n",
        "  file.write(\"python is easy to learn.\\n\")\n",
        "  with open(\"/content/misbah.txt\",\"r\")as file:\n",
        "    print(file.read())"
      ],
      "metadata": {
        "colab": {
          "base_uri": "https://localhost:8080/"
        },
        "id": "e4hi7n1S8bGK",
        "outputId": "4335e696-51fa-4219-ecd4-dead1b349679"
      },
      "execution_count": null,
      "outputs": [
        {
          "output_type": "stream",
          "name": "stdout",
          "text": [
            "python is easy to learn.\n",
            "\n"
          ]
        }
      ]
    },
    {
      "cell_type": "code",
      "source": [
        "#handling division by zero error\n",
        "try:\n",
        "  num1=int(input(\"enter a number:\"))\n",
        "  num2=int(input(\"enter another number:\"))\n",
        "  result=num1/num2\n",
        "  print(\"result:\",result)\n",
        "except ZeroDivisionError:\n",
        "  print(\"cannot divide by zero\")\n",
        "except ValueError:\n",
        "  print(\"invalid input! please enter a valid number\")"
      ],
      "metadata": {
        "colab": {
          "base_uri": "https://localhost:8080/"
        },
        "id": "2NFBWQyb83D-",
        "outputId": "90dc6e4a-30c8-42c5-8739-48da858056d6"
      },
      "execution_count": null,
      "outputs": [
        {
          "output_type": "stream",
          "name": "stdout",
          "text": [
            "enter a number:556\n",
            "enter another number:765\n",
            "result: 0.726797385620915\n"
          ]
        }
      ]
    },
    {
      "cell_type": "code",
      "source": [
        "#creating a custom exception\n",
        "class NegativeNumberError(Exception):\n",
        "  pass\n",
        "def check_positive(number):\n",
        "  if number<=0:\n",
        "    raise NegativeNumberError(\"Negative number entered.\")\n",
        "\n",
        "try:\n",
        "  num=int(input(\"enter a number:\"))\n",
        "  check_positive(num)\n",
        "  print(\"You entered a positive number.\")\n",
        "except NegativeNumberError as e:\n",
        "  print(e)"
      ],
      "metadata": {
        "colab": {
          "base_uri": "https://localhost:8080/"
        },
        "id": "b2eQQuhp9T-Y",
        "outputId": "0e57a1f7-96ab-44b9-fbf0-9d55cc05abf6"
      },
      "execution_count": null,
      "outputs": [
        {
          "output_type": "stream",
          "name": "stdout",
          "text": [
            "enter a number:5\n",
            "You entered a positive number.\n"
          ]
        }
      ]
    },
    {
      "cell_type": "code",
      "source": [
        "#count words in a file\n",
        "def count_words_in_file(file_path):\n",
        "    try:\n",
        "        with open(file_path, 'r') as file:\n",
        "            return len(file.read().split())\n",
        "    except FileNotFoundError:\n",
        "        print(f\"Error: The file '{file_path}' was not found.\")\n",
        "    except Exception as e:\n",
        "        print(f\"An error occurred: {e}\")\n",
        "\n",
        "file_path = input(\"Enter the path to the file: \")\n",
        "word_count = count_words_in_file(file_path)\n",
        "if word_count:\n",
        "    print(f\"The file contains {word_count} words.\")"
      ],
      "metadata": {
        "colab": {
          "base_uri": "https://localhost:8080/"
        },
        "id": "TNT6CEw4-vT9",
        "outputId": "6df9cc5e-d20d-42ad-f7e8-c211c586e4ff"
      },
      "execution_count": null,
      "outputs": [
        {
          "output_type": "stream",
          "name": "stdout",
          "text": [
            "Enter the path to the file: misbah\n",
            "Error: The file 'misbah' was not found.\n"
          ]
        }
      ]
    },
    {
      "cell_type": "code",
      "source": [
        "#copy file contents\n",
        "with open('/content/drive/MyDrive/misbah.txt', 'r') as file:\n",
        "    content = file.read()\n",
        "\n",
        "words = content.split()\n",
        "\n",
        "word_count = len(words)\n",
        "\n",
        "print(f\"The number of words in data.txt is: {word_count}\")\n",
        "\n"
      ],
      "metadata": {
        "colab": {
          "base_uri": "https://localhost:8080/"
        },
        "id": "ZYYYIMHPT6gA",
        "outputId": "5bfc0492-68b9-4777-9a64-293766e23a5c"
      },
      "execution_count": 1,
      "outputs": [
        {
          "output_type": "stream",
          "name": "stdout",
          "text": [
            "The number of words in data.txt is: 8\n"
          ]
        }
      ]
    },
    {
      "cell_type": "code",
      "source": [
        "#check if file exists\n",
        "with open('/content/drive/MyDrive/misbah.txt', 'r') as source_file, open('copy.txt', 'w') as destination_file:\n",
        "    content = source_file.read()\n",
        "\n",
        "    destination_file.write(content)\n",
        "\n",
        "print(\"Contents of data.txt have been copied to copy.txt\")"
      ],
      "metadata": {
        "colab": {
          "base_uri": "https://localhost:8080/"
        },
        "id": "4SRKsBKmU-tZ",
        "outputId": "1f9b1814-ca95-4b12-9911-306ec32297ea"
      },
      "execution_count": 2,
      "outputs": [
        {
          "output_type": "stream",
          "name": "stdout",
          "text": [
            "Contents of data.txt have been copied to copy.txt\n"
          ]
        }
      ]
    },
    {
      "cell_type": "code",
      "source": [
        "#check if file exist\n",
        "import os\n",
        "\n",
        "if os.path.exists('/content/drive/MyDrive/misbah.txt'):\n",
        "    print(\"The file 'data.txt' exists in the current directory.\")\n",
        "else:\n",
        "    print(\"The file 'data.txt' does not exist in the current directory.\")"
      ],
      "metadata": {
        "colab": {
          "base_uri": "https://localhost:8080/"
        },
        "id": "YmUnjlYKWSaz",
        "outputId": "d3f140d3-83a0-442a-f8af-e2ddbc5e67c0"
      },
      "execution_count": 3,
      "outputs": [
        {
          "output_type": "stream",
          "name": "stdout",
          "text": [
            "The file 'data.txt' exists in the current directory.\n"
          ]
        }
      ]
    },
    {
      "cell_type": "code",
      "source": [
        "#read file line by line\n",
        "with open('/content/drive/MyDrive/misbah.txt', 'r') as file:\n",
        "    # Read and print each line in the file\n",
        "    for line in file:\n",
        "        print(line, end='')"
      ],
      "metadata": {
        "colab": {
          "base_uri": "https://localhost:8080/"
        },
        "id": "GPYfLOdqW3K0",
        "outputId": "1d719b1e-bf2f-4482-ce07-55f4ae40822b"
      },
      "execution_count": 4,
      "outputs": [
        {
          "output_type": "stream",
          "name": "stdout",
          "text": [
            "python is awesome!\n",
            "python is easy to learn"
          ]
        }
      ]
    },
    {
      "cell_type": "code",
      "source": [
        "#search for a word in a file\n",
        "with open('/content/drive/MyDrive/misbah.txt', 'r') as file:\n",
        "    line_number = 1\n",
        "\n",
        "    for line in file:\n",
        "        if 'Python' in line:\n",
        "          print(f\"Line {line_number}: {line.strip()}\")\n",
        "        line_number += 1"
      ],
      "metadata": {
        "id": "voPFlf9cXsFy"
      },
      "execution_count": 9,
      "outputs": []
    },
    {
      "cell_type": "code",
      "source": [
        "#write a list to a file\n",
        "# List of numbers\n",
        "numbers = [1, 2, 3, 4, 5]\n",
        "\n",
        "# Open the file 'numbers.txt' in write mode\n",
        "with open('numbers.txt', 'w') as file:\n",
        "    # Write each number from the list to the file\n",
        "    for number in numbers:\n",
        "        file.write(f\"{number}\\n\")\n",
        "\n",
        "print(\"Numbers have been written to 'numbers.txt'\")"
      ],
      "metadata": {
        "colab": {
          "base_uri": "https://localhost:8080/"
        },
        "id": "W4jnQX7vX30e",
        "outputId": "575997fc-9bdd-4749-b9c4-da3b09b803f4"
      },
      "execution_count": 10,
      "outputs": [
        {
          "output_type": "stream",
          "name": "stdout",
          "text": [
            "Numbers have been written to 'numbers.txt'\n"
          ]
        }
      ]
    },
    {
      "cell_type": "code",
      "source": [
        "#reverse file contents\n",
        "# Open 'data.txt' in read mode\n",
        "with open('/content/drive/MyDrive/misbah.txt', 'r') as source_file:\n",
        "    # Read all lines from the file\n",
        "    lines = source_file.readlines()\n",
        "\n",
        "# Open 'reverse.txt' in write mode\n",
        "with open('reverse.txt', 'w') as destination_file:\n",
        "    # Write the lines to the new file in reverse order\n",
        "    for line in reversed(lines):\n",
        "        destination_file.write(line)\n",
        "\n",
        "print(\"Contents of '/content/drive/MyDrive/misbah.txt' have been written in reverse order to 'reverse.txt'\")"
      ],
      "metadata": {
        "colab": {
          "base_uri": "https://localhost:8080/"
        },
        "id": "IqfA0RJfYQjA",
        "outputId": "cbd17959-ba84-4ead-a638-993f1412db0d"
      },
      "execution_count": 11,
      "outputs": [
        {
          "output_type": "stream",
          "name": "stdout",
          "text": [
            "Contents of '/content/drive/MyDrive/misbah.txt' have been written in reverse order to 'reverse.txt'\n"
          ]
        }
      ]
    },
    {
      "cell_type": "code",
      "source": [
        "#file statistics\n",
        "line_count = 0\n",
        "word_count = 0\n",
        "char_count = 0\n",
        "\n",
        "# Open '/content/drive/MyDrive/misbah.txt' in read mode\n",
        "with open('/content/drive/MyDrive/misbah.txt', 'r') as file:\n",
        "    # Iterate through each line in the file\n",
        "    for line in file:\n",
        "        line_count += 1  # Increment line count\n",
        "        char_count += len(line)  # Add the number of characters in the line\n",
        "        word_count += len(line.split())  # Split the line into words and count them\n",
        "\n",
        "# Display the results\n",
        "print(f\"Number of lines: {line_count}\")\n",
        "print(f\"Number of words: {word_count}\")\n",
        "print(f\"Number of characters: {char_count}\")"
      ],
      "metadata": {
        "colab": {
          "base_uri": "https://localhost:8080/"
        },
        "id": "Aa3b_4cPYg-Z",
        "outputId": "03535f15-bb69-455f-bb32-79c4ab18e824"
      },
      "execution_count": 12,
      "outputs": [
        {
          "output_type": "stream",
          "name": "stdout",
          "text": [
            "Number of lines: 2\n",
            "Number of words: 8\n",
            "Number of characters: 42\n"
          ]
        }
      ]
    },
    {
      "cell_type": "code",
      "source": [
        "#merge two files\n",
        "# Open the two files (data.txt and numbers.txt) and read their contents\n",
        "with open('/content/drive/MyDrive/misbah.txt', 'r') as file1, open('numbers.txt', 'r') as file2:\n",
        "    data_content = file1.read()\n",
        "    numbers_content = file2.read()\n",
        "\n",
        "# Open the merged.txt file and write the combined content\n",
        "with open('merged.txt', 'w') as merged_file:\n",
        "    merged_file.write(data_content + '\\n' + numbers_content)"
      ],
      "metadata": {
        "id": "TzOmCi7PYyLh"
      },
      "execution_count": 13,
      "outputs": []
    },
    {
      "cell_type": "code",
      "source": [
        "#count occurance of a word\n",
        "# Open the data.txt file and read its content\n",
        "with open('/content/drive/MyDrive/misbah.txt', 'r') as file:\n",
        "    content = file.read()\n",
        "\n",
        "# Count how many times 'Python' appears in the content\n",
        "python_count = content.lower().count('python')\n",
        "\n",
        "# Print the result\n",
        "print(f\"The word 'Python' appears {python_count} times.\")"
      ],
      "metadata": {
        "colab": {
          "base_uri": "https://localhost:8080/"
        },
        "id": "PjuuTqTiZTX5",
        "outputId": "63faa6e5-d8a7-4305-b58f-902e0ace6918"
      },
      "execution_count": 14,
      "outputs": [
        {
          "output_type": "stream",
          "name": "stdout",
          "text": [
            "The word 'Python' appears 2 times.\n"
          ]
        }
      ]
    },
    {
      "cell_type": "code",
      "source": [
        "#remove a word from a file\n",
        "# Open the file in read mode\n",
        "with open('/content/drive/MyDrive/misbah.txt', 'r') as file:\n",
        "    content = file.read()\n",
        "\n",
        "# Replace the word 'Hello' with an empty string\n",
        "modified_content = content.replace('Hello', '')\n",
        "\n",
        "# Open the file in write mode to save the modified content\n",
        "with open('/content/drive/MyDrive/misbah.txt', 'w') as file:\n",
        "    file.write(modified_content)\n",
        "\n",
        "print(\"The word 'Hello' has been removed from data.txt.\")"
      ],
      "metadata": {
        "colab": {
          "base_uri": "https://localhost:8080/"
        },
        "id": "4-woMV_gZnYf",
        "outputId": "0c8deec6-c699-4cd7-d6c2-b63d71fcacee"
      },
      "execution_count": 15,
      "outputs": [
        {
          "output_type": "stream",
          "name": "stdout",
          "text": [
            "The word 'Hello' has been removed from data.txt.\n"
          ]
        }
      ]
    },
    {
      "cell_type": "code",
      "source": [
        "#file encryption\n",
        "# Function to encrypt text using Caesar Cipher\n",
        "def caesar_cipher(text, shift):\n",
        "    encrypted_text = ''\n",
        "    for char in text:\n",
        "        # Encrypt only alphabetic characters\n",
        "        if char.isalpha():\n",
        "            # Shift character within the alphabet\n",
        "            shift_base = 65 if char.isupper() else 97\n",
        "            encrypted_char = chr((ord(char) - shift_base + shift) % 26 + shift_base)\n",
        "            encrypted_text += encrypted_char\n",
        "        else:\n",
        "            # Keep non-alphabet characters as they are\n",
        "            encrypted_text += char\n",
        "    return encrypted_text\n",
        "\n",
        "# Open the /content/drive/MyDrive/misbah.txt file and read its content\n",
        "with open('/content/drive/MyDrive/misbah.txt', 'r') as file:\n",
        "    content = file.read()\n",
        "\n",
        "# Encrypt the content with a shift of 2\n",
        "shift = 2\n",
        "encrypted_content = caesar_cipher(content, shift)\n",
        "\n",
        "# Save the encrypted content to encrypted.txt\n",
        "with open('encrypted.txt', 'w') as encrypted_file:\n",
        "#file encryption\n",
        "# Function to encrypt text using Caesar Cipher\n",
        " def caesar_cipher(text, shift):\n",
        "    encrypted_text = ''\n",
        "    for char in text:\n",
        "        # Encrypt only alphabetic characters\n",
        "        if char.isalpha():\n",
        "            # Shift character within the alphabet\n",
        "            shift_base = 65 if char.isupper() else 97\n",
        "            encrypted_char = chr((ord(char) - shift_base + shift) % 26 + shift_base)\n",
        "            encrypted_text += encrypted_char\n",
        "        else:\n",
        "            # Keep non-alphabet characters as they are\n",
        "            encrypted_text += char\n",
        "    return encrypted_text\n",
        "\n",
        "# Open the /content/drive/MyDrive/misbah.txt file and read its content\n",
        "with open('/content/drive/MyDrive/misbah.txt', 'r') as file:\n",
        "    content = file.read()\n",
        "\n",
        "# Encrypt the content with a shift of 2\n",
        "shift = 2\n",
        "encrypted_content = caesar_cipher(content, shift)\n",
        "\n",
        "# Save the encrypted content to encrypted.txt\n",
        "with open('encrypted.txt', 'w') as encrypted_file:\n",
        "    encrypted_file.write(encrypted_content)\n",
        "\n",
        "print(\"The contents of data.txt have been encrypted and saved to encrypted.txt\")"
      ],
      "metadata": {
        "colab": {
          "base_uri": "https://localhost:8080/"
        },
        "id": "AoofrZHLZ5Zx",
        "outputId": "4a916df7-8d69-4ca9-9eb7-78684fbfdcf9"
      },
      "execution_count": 18,
      "outputs": [
        {
          "output_type": "stream",
          "name": "stdout",
          "text": [
            "The contents of data.txt have been encrypted and saved to encrypted.txt\n"
          ]
        }
      ]
    },
    {
      "cell_type": "code",
      "source": [
        "#file decryption\n",
        "# Function to decrypt text using Caesar Cipher (shift by -2)\n",
        "def caesar_cipher_decrypt(text, shift):\n",
        "    decrypted_text = ''\n",
        "    for char in text:\n",
        "        # Decrypt only alphabetic characters\n",
        "        if char.isalpha():\n",
        "            # Shift character within the alphabet (reversing the shift)\n",
        "            shift_base = 65 if char.isupper() else 97\n",
        "            decrypted_char = chr((ord(char) - shift_base - shift) % 26 + shift_base)\n",
        "            decrypted_text += decrypted_char\n",
        "        else:\n",
        "            # Keep non-alphabet characters as they are\n",
        "            decrypted_text += char\n",
        "    return decrypted_text\n",
        "\n",
        "# Open the encrypted.txt file and read its content\n",
        "with open('encrypted.txt', 'r') as file:\n",
        "    encrypted_content = file.read()\n",
        "\n",
        "# Decrypt the content with a shift of -2 (reverse the encryption)\n",
        "shift = 2\n",
        "decrypted_content = caesar_cipher_decrypt(encrypted_content, shift)\n",
        "\n",
        "# Save the decrypted content back to a new file (optional, e.g., decrypted.txt)\n",
        "with open('decrypted.txt', 'w') as decrypted_file:\n",
        "    decrypted_file.write(decrypted_content)\n",
        "\n",
        "print(\"The content has been decrypted and saved to decrypted.txt.\")"
      ],
      "metadata": {
        "colab": {
          "base_uri": "https://localhost:8080/"
        },
        "id": "tCZoJHuPafN-",
        "outputId": "5ad01ea6-0b1e-4121-9c69-80d5224e40ec"
      },
      "execution_count": 19,
      "outputs": [
        {
          "output_type": "stream",
          "name": "stdout",
          "text": [
            "The content has been decrypted and saved to decrypted.txt.\n"
          ]
        }
      ]
    },
    {
      "cell_type": "code",
      "source": [
        "#remove blank lines\n",
        "# Open the data.txt file and read its content\n",
        "with open('/content/drive/MyDrive/misbah.txt', 'r') as file:\n",
        "    lines = file.readlines()\n",
        "\n",
        "# Remove blank lines (lines that are empty or contain only whitespace)\n",
        "non_blank_lines = [line for line in lines if line.strip() != '']\n",
        "\n",
        "# Write the cleaned content back to the file\n",
        "with open('/content/drive/MyDrive/misbah.txt', 'w') as file:\n",
        "    file.writelines(non_blank_lines)\n",
        "\n",
        "print(\"All blank lines have been removed from data.txt.\")\n",
        "\n"
      ],
      "metadata": {
        "colab": {
          "base_uri": "https://localhost:8080/"
        },
        "id": "sDDpgCdjbQpp",
        "outputId": "411644e6-0b3a-4058-90ed-eeb37bc25b27"
      },
      "execution_count": 20,
      "outputs": [
        {
          "output_type": "stream",
          "name": "stdout",
          "text": [
            "All blank lines have been removed from data.txt.\n"
          ]
        }
      ]
    },
    {
      "cell_type": "code",
      "source": [
        "#find longest word in a file\n",
        "import re\n",
        "\n",
        "# Function to find the longest word in a text\n",
        "def find_longest_word(text):\n",
        "    # Use regular expression to find all words (sequences of alphabetic characters)\n",
        "    words = re.findall(r'\\b\\w+\\b', text)\n",
        "\n",
        "    # Find the longest word (the one with the maximum length)\n",
        "    longest_word = max(words, key=len) if words else None\n",
        "    return longest_word\n",
        "\n",
        "# Open the data.txt file and read its content\n",
        "with open('/content/drive/MyDrive/misbah.txt', 'r') as file:\n",
        "    content = file.read()\n",
        "\n",
        "# Find the longest word in the content\n",
        "longest_word = find_longest_word(content)\n",
        "\n",
        "if longest_word:\n",
        "    print(f\"The longest word in the file is: {longest_word}\")\n",
        "else:\n",
        "    print(\"No words found in the file.\")"
      ],
      "metadata": {
        "colab": {
          "base_uri": "https://localhost:8080/"
        },
        "id": "cggH0wKtfxoD",
        "outputId": "0f67756e-ce3e-480c-d1c9-19b6f05f2f9d"
      },
      "execution_count": 21,
      "outputs": [
        {
          "output_type": "stream",
          "name": "stdout",
          "text": [
            "The longest word in the file is: awesome\n"
          ]
        }
      ]
    },
    {
      "cell_type": "code",
      "source": [
        "#word frequency analysis\n",
        "import re\n",
        "from collections import Counter\n",
        "\n",
        "# Function to count the frequency of each word in the text\n",
        "def count_word_frequency(text):\n",
        "    # Use regular expression to find all words (sequences of alphabetic characters)\n",
        "    words = re.findall(r'\\b\\w+\\b', text.lower())  # Convert to lowercase for case-insensitive counting\n",
        "\n",
        "    # Count the frequency of each word using Counter\n",
        "    word_frequency = Counter(words)\n",
        "\n",
        "    return word_frequency\n",
        "\n",
        "# Open the data.txt file and read its content\n",
        "with open('/content/drive/MyDrive/misbah.txt', 'r') as file:\n",
        "    content = file.read()\n",
        "\n",
        "# Count the frequency of each word\n",
        "word_frequency = count_word_frequency(content)\n",
        "\n",
        "# Display the results\n",
        "for word, frequency in word_frequency.items():\n",
        "    print(f\"'{word}': {frequency}\")"
      ],
      "metadata": {
        "colab": {
          "base_uri": "https://localhost:8080/"
        },
        "id": "B8MQ-pmNgysG",
        "outputId": "70662a35-6feb-4edd-93ed-74cb2a28ff7f"
      },
      "execution_count": 1,
      "outputs": [
        {
          "output_type": "stream",
          "name": "stdout",
          "text": [
            "'python': 2\n",
            "'is': 2\n",
            "'awesome': 1\n",
            "'easy': 1\n",
            "'to': 1\n",
            "'learn': 1\n"
          ]
        }
      ]
    },
    {
      "cell_type": "code",
      "source": [
        "#handle file not found error\n",
        "# Function to read and process the file\n",
        "def read_file(filename):\n",
        "    try:\n",
        "        # Attempt to open the file\n",
        "        with open(filename, 'r') as file:\n",
        "            content = file.read()\n",
        "        return content\n",
        "    except FileNotFoundError:\n",
        "        # Handle the case where the file doesn't exist\n",
        "        print(f\"Error: The file '{filename}' does not exist.\")\n",
        "        return None  # Return None or any other value to indicate the failure\n",
        "\n",
        "# Specify the file name\n",
        "filename = '/content/drive/MyDrive/misbah.txt'\n",
        "\n",
        "# Attempt to read the file\n",
        "file_content = read_file(filename)\n",
        "\n",
        "if file_content is not None:\n",
        "    # If the file exists, process the content\n",
        "    print(f\"File content:\\n{file_content}\")\n",
        "else:\n",
        "    # If the file doesn't exist, handle accordingly (file not found)\n",
        "    print(\"The file could not be read.\")"
      ],
      "metadata": {
        "colab": {
          "base_uri": "https://localhost:8080/"
        },
        "id": "jouEIyViiI1e",
        "outputId": "0422657e-f2fe-4b5b-a41a-f4673fdbbc9d"
      },
      "execution_count": 3,
      "outputs": [
        {
          "output_type": "stream",
          "name": "stdout",
          "text": [
            "File content:\n",
            "python is awesome!\n",
            "python is easy to learn\n"
          ]
        }
      ]
    },
    {
      "cell_type": "code",
      "source": [
        "#invalid input handling\n",
        "# Function to get an integer input from the user with error handling\n",
        "def get_integer_input(prompt):\n",
        "    while True:\n",
        "        try:\n",
        "            # Attempt to convert the input to an integer\n",
        "            return int(input(prompt))\n",
        "        except ValueError:\n",
        "            # Handle the case where the input is not an integer\n",
        "            print(\"Error: Please enter a valid integer.\")\n",
        "\n",
        "# Input two integers from the user\n",
        "num1 = get_integer_input(\"Enter the first integer: \")\n",
        "num2 = get_integer_input(\"Enter the second integer: \")\n",
        "\n",
        "# Perform division and handle potential ZeroDivisionError\n",
        "try:\n",
        "    result = num1 / num2\n",
        "    print(f\"The result of dividing {num1} by {num2} is: {result}\")\n",
        "except ZeroDivisionError:\n",
        "    print(\"Error: Cannot divide by zero!\")"
      ],
      "metadata": {
        "colab": {
          "base_uri": "https://localhost:8080/"
        },
        "id": "4xIpcfICkdls",
        "outputId": "6382999d-d430-4136-9043-ea7829502687"
      },
      "execution_count": 4,
      "outputs": [
        {
          "output_type": "stream",
          "name": "stdout",
          "text": [
            "Enter the first integer: 2\n",
            "Enter the second integer: 5\n",
            "The result of dividing 2 by 5 is: 0.4\n"
          ]
        }
      ]
    },
    {
      "cell_type": "code",
      "source": [
        "#handle key error\n",
        "# Function to access a value from the dictionary safely\n",
        "def access_dict_value(my_dict, key):\n",
        "    try:\n",
        "        # Attempt to access the value using the key\n",
        "        return my_dict[key]\n",
        "    except KeyError:\n",
        "        # Handle the case where the key does not exist in the dictionary\n",
        "        print(f\"Error: The key '{key}' does not exist in the dictionary.\")\n",
        "        return None  # Return None or any default value as appropriate\n",
        "\n",
        "# Sample dictionary\n",
        "my_dict = {'name': 'Alice', 'age': 30, 'city': 'New York'}\n",
        "\n",
        "# Try to access different keys in the dictionary\n",
        "key_to_access = 'name'  # Valid key\n",
        "result = access_dict_value(my_dict, key_to_access)\n",
        "if result is not None:\n",
        "    print(f\"Value for '{key_to_access}': {result}\")\n",
        "\n",
        "key_to_access = 'occupation'  # Invalid key\n",
        "result = access_dict_value(my_dict, key_to_access)\n",
        "if result is not None:\n",
        "    print(f\"Value for '{key_to_access}': {result}\")"
      ],
      "metadata": {
        "colab": {
          "base_uri": "https://localhost:8080/"
        },
        "id": "Tvb31E9Skwj2",
        "outputId": "0529cf1c-cbc6-481c-9126-ed1102288646"
      },
      "execution_count": 5,
      "outputs": [
        {
          "output_type": "stream",
          "name": "stdout",
          "text": [
            "Value for 'name': Alice\n",
            "Error: The key 'occupation' does not exist in the dictionary.\n"
          ]
        }
      ]
    },
    {
      "cell_type": "code",
      "source": [
        "#file read permission\n",
        "# Function to read the file with error handling\n",
        "def read_file(filename):\n",
        "    try:\n",
        "        # Attempt to open and read the file\n",
        "        with open(filename, 'r') as file:\n",
        "            content = file.read()\n",
        "        return content\n",
        "    except PermissionError:\n",
        "        # Handle the case where permission to read the file is denied\n",
        "        print(f\"Error: Permission denied to read the file '{filename}'.\")\n",
        "        return None  # Return None or any other value to indicate failure\n",
        "    except FileNotFoundError:\n",
        "        # Handle the case where the file doesn't exist\n",
        "        print(f\"Error: The file '{filename}' does not exist.\")\n",
        "        return None\n",
        "    except Exception as e:\n",
        "        # Handle any other unforeseen errors\n",
        "        print(f\"An unexpected error occurred: {e}\")\n",
        "        return None\n",
        "\n",
        "# Specify the filename\n",
        "filename = 'data.txt'\n",
        "\n",
        "# Attempt to read the file\n",
        "file_content = read_file(filename)\n",
        "\n",
        "if file_content is not None:\n",
        "    print(f\"File content:\\n{file_content}\")\n",
        "else:\n",
        "    print(\"The file could not be read.\")"
      ],
      "metadata": {
        "colab": {
          "base_uri": "https://localhost:8080/"
        },
        "id": "5urp8DknlBTU",
        "outputId": "a731bf6f-1a9f-452d-9acc-baf0350c1660"
      },
      "execution_count": 6,
      "outputs": [
        {
          "output_type": "stream",
          "name": "stdout",
          "text": [
            "Error: The file 'data.txt' does not exist.\n",
            "The file could not be read.\n"
          ]
        }
      ]
    },
    {
      "cell_type": "code",
      "source": [
        "#catch multiple exceptions\n",
        "# Function to read the file with error handling\n",
        "def read_file(filename):\n",
        "    try:\n",
        "        # Attempt to open and read the file\n",
        "        with open(filename, 'r') as file:\n",
        "            content = file.read()\n",
        "        return content\n",
        "    except FileNotFoundError:\n",
        "        # Handle the case where the file doesn't exist\n",
        "        print(f\"Error: The file '{filename}' does not exist.\")\n",
        "        return None  # Return None or any other value to indicate failure\n",
        "    except PermissionError:\n",
        "        # Handle the case where permission to read the file is denied\n",
        "        print(f\"Error: Permission denied to read the file '{filename}'.\")\n",
        "        return None  # Return None or any other value to indicate failure\n",
        "    except Exception as e:\n",
        "        # Handle any other unforeseen errors\n",
        "        print(f\"An unexpected error occurred: {e}\")\n",
        "        return None\n",
        "\n",
        "# Specify the filename\n",
        "filename = 'data.txt'\n",
        "\n",
        "# Attempt to read the file\n",
        "file_content = read_file(filename)\n",
        "\n",
        "if file_content is not None:\n",
        "    print(f\"File content:\\n{file_content}\")\n",
        "else:\n",
        "    print(\"The file could not be read.\")"
      ],
      "metadata": {
        "colab": {
          "base_uri": "https://localhost:8080/"
        },
        "id": "VYi56e5WljcA",
        "outputId": "2d3fae89-2363-4e9e-cb2d-32003201782a"
      },
      "execution_count": 7,
      "outputs": [
        {
          "output_type": "stream",
          "name": "stdout",
          "text": [
            "Error: The file 'data.txt' does not exist.\n",
            "The file could not be read.\n"
          ]
        }
      ]
    },
    {
      "cell_type": "code",
      "source": [
        "#custom exception\n",
        "# Define a custom exception for negative numbers\n",
        "class NegativeNumberError(Exception):\n",
        "    def _init_(self, message=\"Negative numbers are not allowed\"):\n",
        "        self.message = message\n",
        "        super()._init_(self.message)\n",
        "\n",
        "# Function to get user input and check for negative numbers\n",
        "def get_positive_number():\n",
        "    try:\n",
        "        # Get input from the user\n",
        "        number = float(input(\"Enter a number: \"))\n",
        "\n",
        "        # Raise the custom exception if the number is negative\n",
        "        if number < 0:\n",
        "            raise NegativeNumberError(f\"Error: {number} is a negative number.\")\n",
        "\n",
        "        print(f\"You entered a positive number: {number}\")\n",
        "\n",
        "    except NegativeNumberError as e:\n",
        "        # Handle the custom exception\n",
        "        print(e)\n",
        "    except ValueError:\n",
        "        # Handle the case where the input is not a valid number\n",
        "        print(\"Error: Please enter a valid number.\")\n",
        "\n",
        "# Call the function to test\n",
        "get_positive_number()"
      ],
      "metadata": {
        "colab": {
          "base_uri": "https://localhost:8080/"
        },
        "id": "WM62mmNXl5nz",
        "outputId": "41a1587e-2e4a-45a0-c413-2c8a621a281c"
      },
      "execution_count": 8,
      "outputs": [
        {
          "output_type": "stream",
          "name": "stdout",
          "text": [
            "Enter a number: 4\n",
            "You entered a positive number: 4.0\n"
          ]
        }
      ]
    },
    {
      "cell_type": "code",
      "source": [
        "#handle inedx error\n",
        "# Function to safely access a list element by index\n",
        "def access_list_element(my_list, index):\n",
        "    try:\n",
        "        # Attempt to access the element at the specified index\n",
        "        element = my_list[index]\n",
        "        return element\n",
        "    except IndexError:\n",
        "        # Handle the case where the index is out of range\n",
        "        print(f\"Error: Index {index} is out of range for the list.\")\n",
        "        return None  # Return None or any other value to indicate failure\n",
        "    except Exception as e:\n",
        "        # Handle any other unforeseen errors\n",
        "        print(f\"An unexpected error occurred: {e}\")\n",
        "        return None\n",
        "\n",
        "# Example list\n",
        "my_list = [10, 20, 30, 40, 50]\n",
        "\n",
        "# Try accessing a valid index\n",
        "index = 2\n",
        "result = access_list_element(my_list, index)\n",
        "if result is not None:\n",
        "    print(f\"Element at index {index}: {result}\")\n",
        "\n",
        "# Try accessing an invalid index (out of range)\n",
        "index = 10\n",
        "result = access_list_element(my_list, index)\n",
        "if result is not None:\n",
        "    print(f\"Element at index {index}: {result}\")"
      ],
      "metadata": {
        "colab": {
          "base_uri": "https://localhost:8080/"
        },
        "id": "Pk-sxUtomEi0",
        "outputId": "6b7d98a0-cb02-4b22-aa59-67990b0d3273"
      },
      "execution_count": 9,
      "outputs": [
        {
          "output_type": "stream",
          "name": "stdout",
          "text": [
            "Element at index 2: 30\n",
            "Error: Index 10 is out of range for the list.\n"
          ]
        }
      ]
    },
    {
      "cell_type": "code",
      "source": [
        "#resource cleanup with finally\n",
        "def read_file():\n",
        "    file = None\n",
        "    try:\n",
        "        # Try to open and read the file\n",
        "        file = open('data.txt', 'r')\n",
        "        content = file.read()\n",
        "        print(\"File content:\\n\", content)\n",
        "    except FileNotFoundError:\n",
        "        print(\"Error: The file 'data.txt' was not found.\")\n",
        "    except Exception as e:\n",
        "        print(f\"An unexpected error occurred: {e}\")\n",
        "    finally:\n",
        "        # Ensure the file is closed\n",
        "        if file:\n",
        "            file.close()\n",
        "            print(\"File has been closed.\")\n",
        "\n",
        "# Call the function\n",
        "read_file()\n"
      ],
      "metadata": {
        "colab": {
          "base_uri": "https://localhost:8080/"
        },
        "id": "e3wWtF-smP_J",
        "outputId": "7b9f744c-d2a2-4dde-8393-9106044e497c"
      },
      "execution_count": 10,
      "outputs": [
        {
          "output_type": "stream",
          "name": "stdout",
          "text": [
            "Error: The file 'data.txt' was not found.\n"
          ]
        }
      ]
    },
    {
      "cell_type": "code",
      "source": [
        "#neted exception handling\n",
        "def divide_numbers():\n",
        "    try:\n",
        "        # Try block for getting user input and performing operations\n",
        "        num1 = input(\"Enter the first number: \")\n",
        "        num2 = input(\"Enter the second number: \")\n",
        "\n",
        "        try:\n",
        "            # Convert input to integers (this might raise ValueError)\n",
        "            num1 = int(num1)\n",
        "            num2 = int(num2)\n",
        "\n",
        "            # Attempt to divide (this might raise ZeroDivisionError)\n",
        "            result = num1 / num2\n",
        "            print(f\"Result: {num1} / {num2} = {result}\")\n",
        "\n",
        "        except ValueError:\n",
        "            # Handle the case where conversion to int fails\n",
        "            print(\"Error: Please enter valid integers.\")\n",
        "\n",
        "        except ZeroDivisionError:\n",
        "            # Handle the case where division by zero is attempted\n",
        "            print(\"Error: Cannot divide by zero.\")\n",
        "\n",
        "    except Exception as e:\n",
        "        # Handle any other general errors (e.g., unexpected input or other errors)\n",
        "        print(f\"An unexpected error occurred: {e}\")\n",
        "\n",
        "# Run the function\n",
        "divide_numbers()"
      ],
      "metadata": {
        "colab": {
          "base_uri": "https://localhost:8080/"
        },
        "id": "KqN8xxnEm6Ng",
        "outputId": "fb52af82-33fa-4f1e-80c4-aba8280b2932"
      },
      "execution_count": 11,
      "outputs": [
        {
          "output_type": "stream",
          "name": "stdout",
          "text": [
            "Enter the first number: 34\n",
            "Enter the second number: 56\n",
            "Result: 34 / 56 = 0.6071428571428571\n"
          ]
        }
      ]
    }
  ]
}