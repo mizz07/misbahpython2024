{
  "nbformat": 4,
  "nbformat_minor": 0,
  "metadata": {
    "colab": {
      "provenance": []
    },
    "kernelspec": {
      "name": "python3",
      "display_name": "Python 3"
    },
    "language_info": {
      "name": "python"
    }
  },
  "cells": [
    {
      "cell_type": "code",
      "source": [
        "import pprint\n",
        "data = {\"name\": \"Alice\", \"subjects\": [\"Math\", \"Science\"], \"grades\": {\"Math\": \"A\",\n",
        "\"Science\": \"B\"}}\n",
        "pprint.pprint(data)"
      ],
      "metadata": {
        "colab": {
          "base_uri": "https://localhost:8080/"
        },
        "id": "pIXbudDVruv_",
        "outputId": "a944459c-9d11-4a04-a9f5-cfc0aadd3b49"
      },
      "execution_count": 2,
      "outputs": [
        {
          "output_type": "stream",
          "name": "stdout",
          "text": [
            "{'grades': {'Math': 'A', 'Science': 'B'},\n",
            " 'name': 'Alice',\n",
            " 'subjects': ['Math', 'Science']}\n"
          ]
        }
      ]
    }
  ]
}