{
  "nbformat": 4,
  "nbformat_minor": 0,
  "metadata": {
    "colab": {
      "provenance": []
    },
    "kernelspec": {
      "name": "python3",
      "display_name": "Python 3"
    },
    "language_info": {
      "name": "python"
    }
  },
  "cells": [
    {
      "cell_type": "code",
      "execution_count": 1,
      "metadata": {
        "colab": {
          "base_uri": "https://localhost:8080/"
        },
        "id": "BygY8igO5Gkn",
        "outputId": "0120b270-9397-4e2e-a53b-7b5c6d2d06c9"
      },
      "outputs": [
        {
          "output_type": "stream",
          "name": "stdout",
          "text": [
            "enter a number: 555\n",
            " 555 is palindrome\n"
          ]
        }
      ],
      "source": [
        "#palindrome or not\n",
        "number=int(input(\"enter a number: \"))\n",
        "reverse_number=0\n",
        "temp=number\n",
        "\n",
        "while temp>0:\n",
        "           digit=temp%10\n",
        "           reverse_number=reverse_number*10+digit\n",
        "           temp=temp//10\n",
        "\n",
        "if number==reverse_number:\n",
        "    print(f\" {number} is palindrome\")\n",
        "else:\n",
        "    print(f\" {number} is not palindrome\")"
      ]
    },
    {
      "cell_type": "code",
      "source": [
        "#palindrome or not\n",
        "number=input(\"enter a number: \")\n",
        "if str(number)==str(number)[::-1]:\n",
        "    print(\"palindrome\")\n",
        "else:\n",
        "    print(\"not palindrome\")"
      ],
      "metadata": {
        "colab": {
          "base_uri": "https://localhost:8080/"
        },
        "id": "Yj_hhtU05V7Q",
        "outputId": "6226e7dc-8720-4cd7-8208-f533de1ebb7a"
      },
      "execution_count": 10,
      "outputs": [
        {
          "output_type": "stream",
          "name": "stdout",
          "text": [
            "enter a number: bob\n",
            "palindrome\n"
          ]
        }
      ]
    }
  ]
}