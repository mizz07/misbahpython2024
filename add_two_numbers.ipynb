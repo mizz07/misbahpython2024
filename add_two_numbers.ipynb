{
  "nbformat": 4,
  "nbformat_minor": 0,
  "metadata": {
    "colab": {
      "provenance": []
    },
    "kernelspec": {
      "name": "python3",
      "display_name": "Python 3"
    },
    "language_info": {
      "name": "python"
    }
  },
  "cells": [
    {
      "cell_type": "markdown",
      "source": [],
      "metadata": {
        "id": "vXBwQjtS_Pqo"
      }
    },
    {
      "cell_type": "markdown",
      "source": [
        "ADD TWO NUMBERS"
      ],
      "metadata": {
        "id": "58DFAwTK_Qdg"
      }
    },
    {
      "cell_type": "code",
      "execution_count": 1,
      "metadata": {
        "colab": {
          "base_uri": "https://localhost:8080/"
        },
        "id": "wgaA6g7X9sPU",
        "outputId": "b0b1e210-bf50-4de4-e097-f30a4fe827c2"
      },
      "outputs": [
        {
          "output_type": "stream",
          "name": "stdout",
          "text": [
            "enter first number: 7\n",
            "enter second number: 15\n",
            "22\n"
          ]
        }
      ],
      "source": [
        "a=int(input(\"enter first number: \"))\n",
        "b=int(input(\"enter second number: \"))\n",
        "print(a+b)"
      ]
    }
  ]
}