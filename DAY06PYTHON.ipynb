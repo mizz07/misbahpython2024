{
  "nbformat": 4,
  "nbformat_minor": 0,
  "metadata": {
    "colab": {
      "provenance": []
    },
    "kernelspec": {
      "name": "python3",
      "display_name": "Python 3"
    },
    "language_info": {
      "name": "python"
    }
  },
  "cells": [
    {
      "cell_type": "markdown",
      "source": [
        "OBJECT-ORRIENTED PROGRAMMING(OOP)"
      ],
      "metadata": {
        "id": "1eas_L1CmG1a"
      }
    },
    {
      "cell_type": "code",
      "source": [
        "#creating an object\n",
        "#example1\n",
        "class Person:\n",
        "    def __init__(self,name,age):\n",
        "        self.name=name\n",
        "        self.age=age\n",
        "\n",
        "    def greet(self):\n",
        "      print(f\"Hello, my name is {self.name} and I am {self.age} years old.\")\n",
        "\n",
        "person1=Person(\"Alice\",25)\n",
        "person1.greet()"
      ],
      "metadata": {
        "colab": {
          "base_uri": "https://localhost:8080/"
        },
        "id": "UC-JwBhrmiWZ",
        "outputId": "79470cab-c621-452b-c34c-e5d9983108d6"
      },
      "execution_count": 2,
      "outputs": [
        {
          "output_type": "stream",
          "name": "stdout",
          "text": [
            "Hello, my name is Alice and I am 25 years old.\n"
          ]
        }
      ]
    },
    {
      "cell_type": "code",
      "source": [
        "#example2\n",
        "class Circle:\n",
        "  def __init__(self,radius):\n",
        "    self.radius = radius\n",
        "\n",
        "  def area(self):\n",
        "    return 3.14*self.radius*self.radius\n",
        "\n",
        "circle1 = Circle(5)\n",
        "print(\"Area:\",circle1.area())\n",
        ""
      ],
      "metadata": {
        "colab": {
          "base_uri": "https://localhost:8080/"
        },
        "id": "Jkoh5Wx1nGih",
        "outputId": "b5330b01-019f-4e70-e5d0-45fa0aa6c321"
      },
      "execution_count": 5,
      "outputs": [
        {
          "output_type": "stream",
          "name": "stdout",
          "text": [
            "Area: 78.5\n"
          ]
        }
      ]
    },
    {
      "cell_type": "code",
      "source": [
        "class Car:\n",
        "  no_of_wheels = 0\n",
        "  mileage = 70\n",
        "  no_of_seats = 4\n",
        "\n",
        "  def moveforward(self): # Added self as the first argument\n",
        "    print(\"Moving forward\")\n",
        "\n",
        "  def movebackward(self): # Added self as the first argument\n",
        "    print(\"Moving backward\")\n",
        "\n",
        "  def turnleft(self): # Added self as the first argument\n",
        "    print(\"Turning left\")\n",
        "\n",
        "  def turnright(self): # Added self as the first argument\n",
        "    print(\"Turning right\")\n",
        "\n",
        "car1 = Car()\n",
        "print(car1.no_of_seats)\n",
        "print(car1.mileage)\n",
        "print(car1.no_of_wheels)\n",
        "\n",
        "car2 = Car()\n",
        "print(car2.no_of_seats)\n",
        "print(car2.mileage)\n",
        "print(car2.no_of_wheels)\n",
        "\n",
        "car3 = Car()\n",
        "car3.mileage = 100\n",
        "car3.no_of_wheels = 10\n",
        "car3.no_of_seats = 12\n",
        "print(car3.no_of_seats)\n",
        "print(car3.mileage)\n",
        "print(car3.no_of_wheels)\n",
        "\n",
        "car3.moveforward()\n",
        "car3.movebackward()\n",
        "car3.turnleft()\n",
        "car3.turnright()\n"
      ],
      "metadata": {
        "colab": {
          "base_uri": "https://localhost:8080/"
        },
        "id": "Vz2jBGG9pbJ7",
        "outputId": "47fc3230-80a0-46ae-d661-f34db78a2570"
      },
      "execution_count": 10,
      "outputs": [
        {
          "output_type": "stream",
          "name": "stdout",
          "text": [
            "4\n",
            "70\n",
            "0\n",
            "4\n",
            "70\n",
            "0\n",
            "12\n",
            "100\n",
            "10\n",
            "Moving forward\n",
            "Moving backward\n",
            "Turning left\n",
            "Turning right\n"
          ]
        }
      ]
    },
    {
      "cell_type": "markdown",
      "source": [
        "Hands on practice"
      ],
      "metadata": {
        "id": "Lpf83fthtZ7T"
      }
    },
    {
      "cell_type": "code",
      "source": [
        "#create a class for a bank account\n",
        "class BankAccount:\n",
        "  def __init__(self,account_number,balance=0):\n",
        "    self.account_number = account_number\n",
        "    self.balance = balance\n",
        "\n",
        "  def deposit(self,amount):\n",
        "    self.balance += amount\n",
        "    print(f\"Deposited {amount}. New balance: {self.balance}\")\n",
        "\n",
        "  def withdraw(self,amount):\n",
        "    if self.balance >= amount:\n",
        "      self.balance -= amount\n",
        "      print(f\"Withdrew {amount}. New balance: {self.balance}\")\n",
        "    else:\n",
        "      print(\"Insufficient funds\")\n",
        "\n",
        "account=BankAccount(\"12345\")\n",
        "account.deposit(1000)\n",
        "account.withdraw(500)"
      ],
      "metadata": {
        "colab": {
          "base_uri": "https://localhost:8080/"
        },
        "id": "7ee26AXFthFo",
        "outputId": "28ea7769-679a-403f-acf2-19d34a024da7"
      },
      "execution_count": 13,
      "outputs": [
        {
          "output_type": "stream",
          "name": "stdout",
          "text": [
            "Deposited 1000. New balance: 1000\n",
            "Withdrew 500. New balance: 500\n"
          ]
        }
      ]
    },
    {
      "cell_type": "code",
      "source": [
        "class Person:\n",
        "    def __init__(self, name, age):\n",
        "        self.name = name            # Public attribute\n",
        "        self._age = age             # Protected attribute\n",
        "        self.__salary = 50000       # Private attribute\n",
        "\n",
        "    def get_salary(self):\n",
        "        return self.__salary\n",
        "\n",
        "    def set_salary(self, new_salary):\n",
        "        if new_salary > 0:\n",
        "            self.__salary = new_salary\n",
        "        else:\n",
        "            print(\"Salary must be positive.\")\n",
        "\n",
        "    def display_info(self):\n",
        "        print(f\"Name: {self.name}, Age: {self._age}, Salary: {self.__salary}\")\n",
        "\n",
        "person = Person(\"Alice\", 30)\n",
        "\n",
        "print(person.name)\n",
        "\n",
        "print(person._age)\n",
        "\n",
        "# Access private attribute (will raise an AttributeError)\n",
        "# print(person.__salary)\n",
        "\n",
        "print(person.get_salary())\n",
        "\n",
        "person.set_salary(60000)\n",
        "person.display_info()"
      ],
      "metadata": {
        "colab": {
          "base_uri": "https://localhost:8080/"
        },
        "id": "RvCgpnMexN_1",
        "outputId": "870483c9-94c8-410d-a974-df88c84489ea"
      },
      "execution_count": 2,
      "outputs": [
        {
          "output_type": "stream",
          "name": "stdout",
          "text": [
            "Alice\n",
            "30\n",
            "50000\n",
            "Name: Alice, Age: 30, Salary: 60000\n"
          ]
        }
      ]
    },
    {
      "cell_type": "markdown",
      "source": [
        "Inheritance-one class(called a child or subclass) to inherit the properties of another class(called a parent or superclass)"
      ],
      "metadata": {
        "id": "QMrjp4d5Fz6_"
      }
    },
    {
      "cell_type": "code",
      "source": [
        "class ParentClass:\n",
        "  def __init__(self, name):\n",
        "    self.name = name\n",
        "\n",
        "  def name1(self):\n",
        "    print(f\"Hello, my name is {self.name}\")\n",
        "\n",
        "class ChildClass(ParentClass):\n",
        "  def __init__(self,name, age):\n",
        "    super().__init__(name)\n",
        "    self.age = age\n",
        "\n",
        "  def age1(self):\n",
        "    print(f\"I am {self.age} years old\")\n",
        "\n",
        "#usage\n",
        "child = ChildClass(\"Misbah\", 18)\n",
        "child.name1()        # Inherited method\n",
        "child.age1()   # Child class method"
      ],
      "metadata": {
        "colab": {
          "base_uri": "https://localhost:8080/"
        },
        "id": "AiWkNlacEqiI",
        "outputId": "0ec205ed-9937-44dd-b273-9702e35bfcdc"
      },
      "execution_count": 2,
      "outputs": [
        {
          "output_type": "stream",
          "name": "stdout",
          "text": [
            "Hello, my name is Misbah\n",
            "I am 18 years old\n"
          ]
        }
      ]
    },
    {
      "cell_type": "markdown",
      "source": [
        "Polymorphism - The ability to redefine methods in derived classes"
      ],
      "metadata": {
        "id": "UX26OsxPH1X6"
      }
    },
    {
      "cell_type": "code",
      "source": [
        "class Bird:\n",
        "  def speak(self):\n",
        "    print(\"I chirp\")\n",
        "\n",
        "class Parrot(Bird):\n",
        "  def speak(self):\n",
        "    print(\"I mimic\")\n",
        "\n",
        "parrot = Parrot()\n",
        "parrot.speak()\n"
      ],
      "metadata": {
        "colab": {
          "base_uri": "https://localhost:8080/"
        },
        "id": "WWCw5htUIGCq",
        "outputId": "d0e565eb-ebbd-46fc-8e12-c4f8fb47db34"
      },
      "execution_count": 4,
      "outputs": [
        {
          "output_type": "stream",
          "name": "stdout",
          "text": [
            "I mimic\n"
          ]
        }
      ]
    }
  ]
}