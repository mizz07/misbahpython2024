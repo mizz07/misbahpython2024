{
  "nbformat": 4,
  "nbformat_minor": 0,
  "metadata": {
    "colab": {
      "provenance": []
    },
    "kernelspec": {
      "name": "python3",
      "display_name": "Python 3"
    },
    "language_info": {
      "name": "python"
    }
  },
  "cells": [
    {
      "cell_type": "code",
      "source": [
        "celcius=float(input(\"enter temperature in cecius: \"))\n",
        "fahrenheit=(celcius*9/5) + 32\n",
        "print(\"temperature in fahrenheit:\",fahrenheit)"
      ],
      "metadata": {
        "colab": {
          "base_uri": "https://localhost:8080/"
        },
        "id": "eqCmMpcnCkQK",
        "outputId": "cbfaea56-7c26-4e12-aea2-7fadaa55aca7"
      },
      "execution_count": 4,
      "outputs": [
        {
          "output_type": "stream",
          "name": "stdout",
          "text": [
            "enter temperature in cecius: 20\n",
            "temperature in fahrenheit: 68.0\n"
          ]
        }
      ]
    }
  ]
}