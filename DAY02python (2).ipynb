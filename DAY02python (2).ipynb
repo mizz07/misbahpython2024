{
  "nbformat": 4,
  "nbformat_minor": 0,
  "metadata": {
    "colab": {
      "provenance": []
    },
    "kernelspec": {
      "name": "python3",
      "display_name": "Python 3"
    },
    "language_info": {
      "name": "python"
    }
  },
  "cells": [
    {
      "cell_type": "markdown",
      "source": [
        "CONTROL FLOW AND LOOPS\n",
        "\n",
        " 1.CONDITIONAL STATEMENTS\n",
        "\n",
        "  if statement"
      ],
      "metadata": {
        "id": "x5eTRxS_0Lj6"
      }
    },
    {
      "cell_type": "code",
      "source": [
        "age = 18\n",
        "if age >=18:\n",
        "    print(\"you are eligible to vote.\")\n"
      ],
      "metadata": {
        "colab": {
          "base_uri": "https://localhost:8080/"
        },
        "id": "rS7ifpK31PPi",
        "outputId": "b878b6af-8a7f-4ac7-f839-f485a8adb2ad"
      },
      "execution_count": null,
      "outputs": [
        {
          "output_type": "stream",
          "name": "stdout",
          "text": [
            "you are eligible to vote.\n"
          ]
        }
      ]
    },
    {
      "cell_type": "markdown",
      "source": [
        "if-else statement"
      ],
      "metadata": {
        "id": "0Hhr7JjZ2LLx"
      }
    },
    {
      "cell_type": "code",
      "source": [
        "num = int(input(\"enter a number: \"))\n",
        "if num % 2 == 0:\n",
        "    print(\"the number is even\")\n",
        "else:\n",
        "    print(\"the number is odd\")"
      ],
      "metadata": {
        "colab": {
          "base_uri": "https://localhost:8080/"
        },
        "id": "H__ijRq52Xrx",
        "outputId": "6dab9039-fafc-4922-9f6c-17b4abedba8a"
      },
      "execution_count": null,
      "outputs": [
        {
          "output_type": "stream",
          "name": "stdout",
          "text": [
            "enter a number: 4\n",
            "the number is even\n"
          ]
        }
      ]
    },
    {
      "cell_type": "markdown",
      "source": [
        "if-elif-else statements"
      ],
      "metadata": {
        "id": "wy0dvRjc3Myp"
      }
    },
    {
      "cell_type": "code",
      "source": [
        "marks = int(input(\"enter your marks: \"))\n",
        "if marks >=90:\n",
        "    print(\"your grade is A\")\n",
        "elif marks >=80:\n",
        "    print(\"your grade is B\")\n",
        "elif marks >70:\n",
        "    print(\"your grade is C\")\n",
        "else:\n",
        "    print(\"your grade is D\")\n"
      ],
      "metadata": {
        "colab": {
          "base_uri": "https://localhost:8080/"
        },
        "id": "4LDSY-GE3aCK",
        "outputId": "909ec88e-08ec-4c9e-b403-5531308f432c"
      },
      "execution_count": null,
      "outputs": [
        {
          "output_type": "stream",
          "name": "stdout",
          "text": [
            "enter your marks: 90\n",
            "your grade is A\n"
          ]
        }
      ]
    },
    {
      "cell_type": "markdown",
      "source": [
        "LOOPS\n",
        "\n",
        "1.for loop\n"
      ],
      "metadata": {
        "id": "h2SHVCf15K8a"
      }
    },
    {
      "cell_type": "code",
      "source": [
        "for i in range(5):\n",
        "    print(\"iteration:\", i)"
      ],
      "metadata": {
        "colab": {
          "base_uri": "https://localhost:8080/"
        },
        "id": "V1YL2UsK5R-5",
        "outputId": "0d894e23-ecd4-4b30-c74d-619c57e89871"
      },
      "execution_count": null,
      "outputs": [
        {
          "output_type": "stream",
          "name": "stdout",
          "text": [
            "iteration: 0\n",
            "iteration: 1\n",
            "iteration: 2\n",
            "iteration: 3\n",
            "iteration: 4\n"
          ]
        }
      ]
    },
    {
      "cell_type": "code",
      "source": [
        "for i in range(5,10):\n",
        "    print(\"iteration:\", i)"
      ],
      "metadata": {
        "colab": {
          "base_uri": "https://localhost:8080/"
        },
        "id": "gN848Ww57AT5",
        "outputId": "30de753e-5140-4551-97a3-9d2bbcab75f1"
      },
      "execution_count": null,
      "outputs": [
        {
          "output_type": "stream",
          "name": "stdout",
          "text": [
            "iteration: 5\n",
            "iteration: 6\n",
            "iteration: 7\n",
            "iteration: 8\n",
            "iteration: 9\n"
          ]
        }
      ]
    },
    {
      "cell_type": "code",
      "source": [
        "for i in range(5,50,5):\n",
        "    print(\"iteration:\", i)"
      ],
      "metadata": {
        "colab": {
          "base_uri": "https://localhost:8080/"
        },
        "id": "pwoh_wQF7FcB",
        "outputId": "48c07043-582e-4817-924e-5c1a97b636c4"
      },
      "execution_count": null,
      "outputs": [
        {
          "output_type": "stream",
          "name": "stdout",
          "text": [
            "iteration: 5\n",
            "iteration: 10\n",
            "iteration: 15\n",
            "iteration: 20\n",
            "iteration: 25\n",
            "iteration: 30\n",
            "iteration: 35\n",
            "iteration: 40\n",
            "iteration: 45\n"
          ]
        }
      ]
    },
    {
      "cell_type": "markdown",
      "source": [
        "2.while loop"
      ],
      "metadata": {
        "id": "1Iw6e3m27KGB"
      }
    },
    {
      "cell_type": "code",
      "source": [
        "count=0\n",
        "while count<5:\n",
        "    print(\"count:\", count)\n",
        "    count +=1"
      ],
      "metadata": {
        "colab": {
          "base_uri": "https://localhost:8080/"
        },
        "id": "LMhHptNu7UrB",
        "outputId": "2e182859-3a29-4ce3-b42a-75f62b498c17"
      },
      "execution_count": null,
      "outputs": [
        {
          "output_type": "stream",
          "name": "stdout",
          "text": [
            "count: 0\n",
            "count: 1\n",
            "count: 2\n",
            "count: 3\n",
            "count: 4\n"
          ]
        }
      ]
    },
    {
      "cell_type": "markdown",
      "source": [
        "CONTROL FLOW TOOLS\n",
        "\n",
        "1.break"
      ],
      "metadata": {
        "id": "rqDzMeyb8eMR"
      }
    },
    {
      "cell_type": "code",
      "source": [
        "#break\n",
        "for i in range(10):\n",
        "  if i == 5:\n",
        "    break\n",
        "  print(i)"
      ],
      "metadata": {
        "colab": {
          "base_uri": "https://localhost:8080/"
        },
        "id": "J-wASH-E8pJ5",
        "outputId": "f033eef9-b01c-49dd-e936-a300e031a8ce"
      },
      "execution_count": null,
      "outputs": [
        {
          "output_type": "stream",
          "name": "stdout",
          "text": [
            "0\n",
            "1\n",
            "2\n",
            "3\n",
            "4\n"
          ]
        }
      ]
    },
    {
      "cell_type": "code",
      "source": [
        "#continue\n",
        "for i in range(10):\n",
        "  if i == 5:\n",
        "    continue\n",
        "  print(i)\n"
      ],
      "metadata": {
        "colab": {
          "base_uri": "https://localhost:8080/"
        },
        "id": "kxV_F6P-9ppg",
        "outputId": "6dfab353-9bf4-46f2-c791-8f60b7b4b2e0"
      },
      "execution_count": null,
      "outputs": [
        {
          "output_type": "stream",
          "name": "stdout",
          "text": [
            "0\n",
            "1\n",
            "2\n",
            "3\n",
            "4\n",
            "6\n",
            "7\n",
            "8\n",
            "9\n"
          ]
        }
      ]
    },
    {
      "cell_type": "code",
      "source": [
        "#pass\n",
        "for i in range(10):\n",
        "  if i == 5:\n",
        "    pass\n",
        "  print(i)"
      ],
      "metadata": {
        "colab": {
          "base_uri": "https://localhost:8080/"
        },
        "id": "ayaqRODD-Lk5",
        "outputId": "ebae5896-2a56-41c9-9f3b-4e911646f625"
      },
      "execution_count": null,
      "outputs": [
        {
          "output_type": "stream",
          "name": "stdout",
          "text": [
            "0\n",
            "1\n",
            "2\n",
            "3\n",
            "4\n",
            "5\n",
            "6\n",
            "7\n",
            "8\n",
            "9\n"
          ]
        }
      ]
    },
    {
      "cell_type": "markdown",
      "source": [
        "1.Number is even or odd"
      ],
      "metadata": {
        "id": "Up5iZ47JCprH"
      }
    },
    {
      "cell_type": "code",
      "source": [
        "number=int(input(\"enter a number:\"))\n",
        "if number % 2 == 0:\n",
        "    print(\"the number is even.\")\n",
        "else:\n",
        "    print(\"the number is odd.\")"
      ],
      "metadata": {
        "colab": {
          "base_uri": "https://localhost:8080/"
        },
        "id": "JMbkjicVCF-h",
        "outputId": "b388a788-6bac-48d1-96a1-143f9f679adf"
      },
      "execution_count": null,
      "outputs": [
        {
          "output_type": "stream",
          "name": "stdout",
          "text": [
            "enter a number:5\n",
            "the number is odd.\n"
          ]
        }
      ]
    },
    {
      "cell_type": "markdown",
      "source": [
        "2.Sum of numbers in a given range"
      ],
      "metadata": {
        "id": "c5Eq8YTbCy8o"
      }
    },
    {
      "cell_type": "code",
      "source": [
        "start=int(input(\"enter the starting of the range:\"))\n",
        "end=int(input(\"enter the ending of the range:\"))\n",
        "sum=0\n",
        "for i in range(start, end + 1):\n",
        "    sum += i\n",
        "print(\"the sum is:\", sum)"
      ],
      "metadata": {
        "colab": {
          "base_uri": "https://localhost:8080/"
        },
        "id": "81qH0MG9C9yQ",
        "outputId": "75f19029-467c-4be1-af81-d63d15fc704b"
      },
      "execution_count": null,
      "outputs": [
        {
          "output_type": "stream",
          "name": "stdout",
          "text": [
            "enter the starting of the range:5\n",
            "enter the ending of the range:10\n",
            "the sum is: 45\n"
          ]
        }
      ]
    },
    {
      "cell_type": "markdown",
      "source": [
        "3.Program to find factorial number"
      ],
      "metadata": {
        "id": "SoUh1XmyE8tA"
      }
    },
    {
      "cell_type": "code",
      "source": [
        "number=int(input(\"enter a number:\"))\n",
        "factoril=1\n",
        "for i in range(1,number+1):\n",
        "    factoril *= i\n",
        "print(\"the factorial is:\", factoril)"
      ],
      "metadata": {
        "colab": {
          "base_uri": "https://localhost:8080/"
        },
        "id": "GqeZdUs-FHWQ",
        "outputId": "d004c297-fdc1-46c9-82a0-fa8b45ab3378"
      },
      "execution_count": null,
      "outputs": [
        {
          "output_type": "stream",
          "name": "stdout",
          "text": [
            "enter a number:4\n",
            "the factorial is: 24\n"
          ]
        }
      ]
    },
    {
      "cell_type": "markdown",
      "source": [
        "4.Fibonacci sequence"
      ],
      "metadata": {
        "id": "tYJP3E4fH4nA"
      }
    },
    {
      "cell_type": "code",
      "source": [
        "n=int(input(\"enter the number of terms:\"))\n",
        "a,b=0,1\n",
        "for _ in range(n):\n",
        "   print(a, end=\"\")\n",
        "   a,b=b,a+b"
      ],
      "metadata": {
        "colab": {
          "base_uri": "https://localhost:8080/"
        },
        "id": "PxNroERvH9ug",
        "outputId": "4eae02a1-93d9-4afb-94ce-b46f7ffeaf49"
      },
      "execution_count": null,
      "outputs": [
        {
          "output_type": "stream",
          "name": "stdout",
          "text": [
            "enter the number of terms:10\n",
            "0112358132134"
          ]
        }
      ]
    },
    {
      "cell_type": "markdown",
      "source": [
        "5.Simple calculator using if-else"
      ],
      "metadata": {
        "id": "U0VDqCO4UjgL"
      }
    },
    {
      "cell_type": "code",
      "source": [
        "num1=float(input(\"enter the first number:\"))\n",
        "num2=float(input(\"enter the second number:\"))\n",
        "operation=input(\"enter the operation(+,-,*,/,//,%,**):\")\n",
        "if operation == '+':\n",
        "    print(\"Result:\", num1 + num2)\n",
        "elif operation == '-':\n",
        "    print(\"Result:\", num1 - num2)\n",
        "elif operation == '*':\n",
        "    print(\"Result:\", num1* num2)\n",
        "elif operation == '/':\n",
        "    print(\"Result:\", num1 / num2)\n",
        "elif operation == '//':\n",
        "    print(\"Result:\", num1 // num2)\n",
        "elif operation == '%':\n",
        "    print(\"Result:\", num1 % num2)\n",
        "elif operation == '**':\n",
        "    print(\"Result:\", num1 ** num2)\n",
        "else:\n",
        "    print(\"Invalid operation\")"
      ],
      "metadata": {
        "colab": {
          "base_uri": "https://localhost:8080/"
        },
        "id": "3pkvbYlgUqw-",
        "outputId": "37faeae3-8b50-4d7a-807f-fa0497e3cd98"
      },
      "execution_count": 4,
      "outputs": [
        {
          "output_type": "stream",
          "name": "stdout",
          "text": [
            "enter the first number:6\n",
            "enter the second number:9\n",
            "enter the operation(+,-,*,/,//,%,**):+\n",
            "Result: 15.0\n"
          ]
        }
      ]
    },
    {
      "cell_type": "markdown",
      "source": [
        "6.Check leap year"
      ],
      "metadata": {
        "id": "iX_7dv-Pdx9K"
      }
    },
    {
      "cell_type": "code",
      "source": [
        "year=int(input(\"enter a year: \"))\n",
        "if(year % 4 == 0 and year % 100 !=0) or (year % 400 == 0):\n",
        "    print(\"leap year\")\n",
        "else:\n",
        "    print(\"not a leap year\")"
      ],
      "metadata": {
        "colab": {
          "base_uri": "https://localhost:8080/"
        },
        "id": "bZpOEi0cd9qq",
        "outputId": "39fe5c60-a4a4-42de-9c5c-35eb8fc1eef8"
      },
      "execution_count": 5,
      "outputs": [
        {
          "output_type": "stream",
          "name": "stdout",
          "text": [
            "enter a year: 2024\n",
            "leap year\n"
          ]
        }
      ]
    },
    {
      "cell_type": "markdown",
      "source": [
        "7.Find the largest of three numbers\n"
      ],
      "metadata": {
        "id": "htfRE_-ogV_C"
      }
    },
    {
      "cell_type": "code",
      "source": [
        "num1=float(input(\"enter the first number: \"))\n",
        "num2=float(input(\"enter the second number: \"))\n",
        "num3=float(input(\"enter the third number: \"))\n",
        "if num1 >=num2 and num1 >=num3:\n",
        "    print(\"the largest number is:\", num1)\n",
        "elif num2 >=num3:\n",
        "    print(\"the largest number is:\", num2)\n",
        "else:\n",
        "    print(\"the largest number is:\", num3)\n"
      ],
      "metadata": {
        "colab": {
          "base_uri": "https://localhost:8080/"
        },
        "id": "VSOipeLsgdxG",
        "outputId": "4fd86134-41f0-47c0-bdd7-d49e6cb5139b"
      },
      "execution_count": 6,
      "outputs": [
        {
          "output_type": "stream",
          "name": "stdout",
          "text": [
            "enter the first number: 5\n",
            "enter the second number: 10\n",
            "enter the third number: 15\n",
            "the largest number is: 15.0\n"
          ]
        }
      ]
    },
    {
      "cell_type": "markdown",
      "source": [
        "8.Positive or Negative or Zero"
      ],
      "metadata": {
        "id": "RJGekNzmi0GH"
      }
    },
    {
      "cell_type": "code",
      "source": [
        "a = int(input(\"enter a number: \"))\n",
        "if a > 0:\n",
        "    print(\"the number is positive\")\n",
        "elif a < 0:\n",
        "    print(\"the number is negative\")\n",
        "else:\n",
        "    print(\"the number is zero\")"
      ],
      "metadata": {
        "colab": {
          "base_uri": "https://localhost:8080/"
        },
        "id": "KWVXCnbxjEMM",
        "outputId": "a24f7cf7-7388-49cb-fd18-c663645ae044"
      },
      "execution_count": 2,
      "outputs": [
        {
          "output_type": "stream",
          "name": "stdout",
          "text": [
            "enter a number: 5\n",
            "the number is positive\n"
          ]
        }
      ]
    },
    {
      "cell_type": "markdown",
      "source": [
        "9.Sum of all even numbers in a range"
      ],
      "metadata": {
        "id": "fT9mJs4bj07K"
      }
    },
    {
      "cell_type": "code",
      "source": [
        "start=int(input(\"enter the starting of the range: \"))\n",
        "end=int(input(\"enter the ending of the range: \"))\n",
        "even_sum=0\n",
        "for num in range(start, end + 1):\n",
        "  if num % 2 == 0:\n",
        "    even_sum += num\n",
        "  print(\"sum of even numbers:\",even_sum)\n",
        ""
      ],
      "metadata": {
        "colab": {
          "base_uri": "https://localhost:8080/"
        },
        "id": "-ev5arSvj9K1",
        "outputId": "826f2e8b-c610-4742-aac5-4cd4aa81f671"
      },
      "execution_count": 9,
      "outputs": [
        {
          "output_type": "stream",
          "name": "stdout",
          "text": [
            "enter the starting of the range: 40\n",
            "enter the ending of the range: 50\n",
            "sum of even numbers: 40\n",
            "sum of even numbers: 40\n",
            "sum of even numbers: 82\n",
            "sum of even numbers: 82\n",
            "sum of even numbers: 126\n",
            "sum of even numbers: 126\n",
            "sum of even numbers: 172\n",
            "sum of even numbers: 172\n",
            "sum of even numbers: 220\n",
            "sum of even numbers: 220\n",
            "sum of even numbers: 270\n"
          ]
        }
      ]
    }
  ]
}